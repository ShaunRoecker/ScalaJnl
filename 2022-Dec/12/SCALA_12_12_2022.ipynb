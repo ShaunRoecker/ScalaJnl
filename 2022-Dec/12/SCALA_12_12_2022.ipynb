{
 "cells": [
  {
   "cell_type": "markdown",
   "metadata": {},
   "source": [
    "## ScalaNotes December 12, 2022"
   ]
  },
  {
   "cell_type": "code",
   "execution_count": 1,
   "metadata": {},
   "outputs": [
    {
     "data": {
      "text/plain": [
       "defined \u001b[32mfunction\u001b[39m \u001b[36mgcdLoop\u001b[39m"
      ]
     },
     "execution_count": 1,
     "metadata": {},
     "output_type": "execute_result"
    }
   ],
   "source": [
    "def gcdLoop(x: Long, y: Long): Long = {\n",
    "    var a = x\n",
    "    var b = y\n",
    "    while (a != 0) {\n",
    "        val temp = a\n",
    "        a = b % a\n",
    "        b = temp\n",
    "    } \n",
    "    b\n",
    "}"
   ]
  },
  {
   "cell_type": "code",
   "execution_count": 2,
   "metadata": {},
   "outputs": [],
   "source": [
    "val x = ()"
   ]
  },
  {
   "cell_type": "code",
   "execution_count": 3,
   "metadata": {},
   "outputs": [
    {
     "name": "stdout",
     "output_type": "stream",
     "text": [
      "()\n"
     ]
    }
   ],
   "source": [
    "println(x)"
   ]
  },
  {
   "cell_type": "code",
   "execution_count": 5,
   "metadata": {},
   "outputs": [
    {
     "data": {
      "text/plain": [
       "\u001b[36mres4_0\u001b[39m: \u001b[32mBoolean\u001b[39m = \u001b[32mtrue\u001b[39m\n",
       "\u001b[36mres4_1\u001b[39m: \u001b[32mBoolean\u001b[39m = \u001b[32mfalse\u001b[39m"
      ]
     },
     "execution_count": 5,
     "metadata": {},
     "output_type": "execute_result"
    }
   ],
   "source": [
    "x.isInstanceOf[Unit]\n",
    "x.isInstanceOf[Int]"
   ]
  },
  {
   "cell_type": "markdown",
   "metadata": {},
   "source": [
    "#### Catching Exceptions"
   ]
  },
  {
   "cell_type": "code",
   "execution_count": 6,
   "metadata": {},
   "outputs": [
    {
     "data": {
      "text/plain": [
       "\u001b[32mimport \u001b[39m\u001b[36mjava.io.FileReader\n",
       "\u001b[39m\n",
       "\u001b[32mimport \u001b[39m\u001b[36mjava.io.FileNotFoundException\n",
       "\u001b[39m\n",
       "\u001b[32mimport \u001b[39m\u001b[36mjava.io.IOException\n",
       "\n",
       "\u001b[39m"
      ]
     },
     "execution_count": 6,
     "metadata": {},
     "output_type": "execute_result"
    }
   ],
   "source": [
    "import java.io.FileReader\n",
    "import java.io.FileNotFoundException\n",
    "import java.io.IOException\n",
    "\n",
    "try {\n",
    "    val f = new FileReader(\"input.txt\")\n",
    "}\n",
    "catch {\n",
    "    case ex: FileNotFoundException => //Handle missing input file\n",
    "    case ex: IOException => // handle other I/O errors\n",
    "}\n",
    "    \n"
   ]
  },
  {
   "cell_type": "code",
   "execution_count": 6,
   "metadata": {},
   "outputs": [],
   "source": [
    "// The finally clause\n",
    "// import java.io.FileReader\n",
    "\n",
    "// val f = new FileReader(\"input.txt\")\n",
    "// try {\n",
    "//     println(file.read())\n",
    "// }\n",
    "// finally {\n",
    "//     file.close()\n",
    "// }"
   ]
  },
  {
   "cell_type": "code",
   "execution_count": 6,
   "metadata": {},
   "outputs": [],
   "source": [
    "// try t() catch { case e: Exception => \"Something\"} finally f()"
   ]
  },
  {
   "cell_type": "code",
   "execution_count": 7,
   "metadata": {},
   "outputs": [
    {
     "name": "stdout",
     "output_type": "stream",
     "text": [
      "pepper\n"
     ]
    },
    {
     "data": {
      "text/plain": [
       "\u001b[36margs\u001b[39m: \u001b[32mSeq\u001b[39m[\u001b[32mString\u001b[39m] = \u001b[33mList\u001b[39m(\u001b[32m\"salt\"\u001b[39m)\n",
       "\u001b[36mfirstArg\u001b[39m: \u001b[32mString\u001b[39m = \u001b[32m\"salt\"\u001b[39m"
      ]
     },
     "execution_count": 7,
     "metadata": {},
     "output_type": "execute_result"
    }
   ],
   "source": [
    "// match expressions\n",
    "val args = Seq(\"salt\")\n",
    "\n",
    "val firstArg = if (!args.isEmpty){\n",
    "    args(0)\n",
    "} else \"\"\n",
    "\n",
    "firstArg match {\n",
    "    case \"salt\" => println(\"pepper\")\n",
    "    case \"chips\" => println(\"salsa\")\n",
    "    case \"eggs\" => println(\"bacon\")\n",
    "    case _ => println(\"huh?\")\n",
    "}"
   ]
  },
  {
   "cell_type": "code",
   "execution_count": 7,
   "metadata": {},
   "outputs": [],
   "source": [
    "// def searchFrom(i: Int): Int = {\n",
    "//     if i >= args.length then -1\n",
    "//     else if args(i).startsWith(\"-\") then searchFrom(i + 1)\n",
    "//     else if args(i).endsWith(\".scala\") then i\n",
    "//     else searchFrom(i + 1)\n",
    "// }"
   ]
  },
  {
   "cell_type": "code",
   "execution_count": 9,
   "metadata": {},
   "outputs": [
    {
     "data": {
      "text/plain": [
       "defined \u001b[32mfunction\u001b[39m \u001b[36mmakeRowSeq\u001b[39m"
      ]
     },
     "execution_count": 9,
     "metadata": {},
     "output_type": "execute_result"
    }
   ],
   "source": [
    "def makeRowSeq(row: Int) = {\n",
    "    for {col <- 1 to 10} yield {\n",
    "        val prod = (row * col).toString\n",
    "        val padding = \" \" * (4 - prod.length)\n",
    "        padding + prod\n",
    "    }\n",
    "}\n",
    "\n"
   ]
  },
  {
   "cell_type": "code",
   "execution_count": null,
   "metadata": {},
   "outputs": [],
   "source": []
  }
 ],
 "metadata": {
  "kernelspec": {
   "display_name": "Scala",
   "language": "scala",
   "name": "scala"
  },
  "language_info": {
   "codemirror_mode": "text/x-scala",
   "file_extension": ".sc",
   "mimetype": "text/x-scala",
   "name": "scala",
   "nbconvert_exporter": "script",
   "version": "2.13.10"
  },
  "orig_nbformat": 4
 },
 "nbformat": 4,
 "nbformat_minor": 2
}
