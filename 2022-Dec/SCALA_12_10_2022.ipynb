{
 "cells": [
  {
   "cell_type": "markdown",
   "metadata": {},
   "source": [
    "## ScalaNotes December 10, 2022"
   ]
  },
  {
   "cell_type": "code",
   "execution_count": 2,
   "metadata": {},
   "outputs": [
    {
     "data": {
      "text/plain": [
       "defined \u001b[32mclass\u001b[39m \u001b[36mPerson\u001b[39m\n",
       "\u001b[36mperson\u001b[39m: \u001b[32mPerson\u001b[39m = ammonite.$sess.cmd1$Helper$Person@4fb3ebf5"
      ]
     },
     "execution_count": 2,
     "metadata": {},
     "output_type": "execute_result"
    }
   ],
   "source": [
    "// OO Basics\n",
    "class Person\n",
    "\n",
    "val person = new Person\n"
   ]
  },
  {
   "cell_type": "markdown",
   "metadata": {},
   "source": []
  },
  {
   "cell_type": "code",
   "execution_count": 3,
   "metadata": {},
   "outputs": [
    {
     "data": {
      "text/plain": [
       "defined \u001b[32mclass\u001b[39m \u001b[36mPerson\u001b[39m"
      ]
     },
     "execution_count": 3,
     "metadata": {},
     "output_type": "execute_result"
    }
   ],
   "source": [
    "// case class\n",
    "case class Person(name: String, age: Int, email: String) {\n",
    "    override def toString = s\"Name: $name, Age: $age\"\n",
    "}"
   ]
  },
  {
   "cell_type": "code",
   "execution_count": 4,
   "metadata": {},
   "outputs": [
    {
     "data": {
      "text/plain": [
       "\u001b[36mperson\u001b[39m: \u001b[32mPerson\u001b[39m = \u001b[33mPerson\u001b[39m(name = \u001b[32m\"Shaun\"\u001b[39m, age = \u001b[32m33\u001b[39m, email = \u001b[32m\"shaun@gmail.com\"\u001b[39m)"
      ]
     },
     "execution_count": 4,
     "metadata": {},
     "output_type": "execute_result"
    }
   ],
   "source": [
    "val person = Person(name=\"Shaun\", age=33, email=\"shaun@gmail.com\")"
   ]
  },
  {
   "cell_type": "code",
   "execution_count": 5,
   "metadata": {},
   "outputs": [
    {
     "name": "stdout",
     "output_type": "stream",
     "text": [
      "Name: Shaun, Age: 33\n"
     ]
    }
   ],
   "source": [
    "println(person)"
   ]
  },
  {
   "cell_type": "code",
   "execution_count": 6,
   "metadata": {},
   "outputs": [
    {
     "data": {
      "text/plain": [
       "defined \u001b[32mclass\u001b[39m \u001b[36mPerson\u001b[39m"
      ]
     },
     "execution_count": 6,
     "metadata": {},
     "output_type": "execute_result"
    }
   ],
   "source": [
    "//classes\n",
    "// class parameters are not fields, need to add val or var to create class fields in the constructor\n",
    "class Person(val name: String, var age: Int = 10) {  // <- constructor\n",
    "\n",
    "\n",
    "   // overriding extended methods\n",
    "   override def toString = s\"Name: $name, Age: $age\"\n",
    "\n",
    "   // method\n",
    "   def greet(name: String): Unit = println(s\"${this.name} says: Hi, ${name}!\")\n",
    "   // overloading\n",
    "   def greet: Unit = println(s\"Hi, I'm ${this.name}\")\n",
    "\n",
    "}"
   ]
  },
  {
   "cell_type": "code",
   "execution_count": 7,
   "metadata": {},
   "outputs": [
    {
     "data": {
      "text/plain": [
       "\u001b[36mperson\u001b[39m: \u001b[32mPerson\u001b[39m = Name: Shaun, Age: 33"
      ]
     },
     "execution_count": 7,
     "metadata": {},
     "output_type": "execute_result"
    }
   ],
   "source": [
    "val person = new Person(\"Shaun\", 33)\n"
   ]
  },
  {
   "cell_type": "code",
   "execution_count": 8,
   "metadata": {},
   "outputs": [
    {
     "data": {
      "text/plain": [
       "defined \u001b[32mclass\u001b[39m \u001b[36mWriter\u001b[39m"
      ]
     },
     "execution_count": 8,
     "metadata": {},
     "output_type": "execute_result"
    }
   ],
   "source": [
    "class Writer(val firstName: String, val lastName: String, val yearBorn: Int) {\n",
    "    def fullname: String = firstName + \" \" + lastName\n",
    "}"
   ]
  },
  {
   "cell_type": "code",
   "execution_count": 9,
   "metadata": {},
   "outputs": [
    {
     "data": {
      "text/plain": [
       "defined \u001b[32mclass\u001b[39m \u001b[36mNovel\u001b[39m"
      ]
     },
     "execution_count": 9,
     "metadata": {},
     "output_type": "execute_result"
    }
   ],
   "source": [
    "class Novel(val name: String, val yearOfRelease: Int, val author: Writer) {\n",
    "    def authorAge = yearOfRelease - author.yearBorn\n",
    "    def isWrittenBy: String = author.fullname\n",
    "    \n",
    "\n",
    "}"
   ]
  },
  {
   "cell_type": "code",
   "execution_count": 10,
   "metadata": {},
   "outputs": [
    {
     "data": {
      "text/plain": [
       "\u001b[36mauthor\u001b[39m: \u001b[32mWriter\u001b[39m = ammonite.$sess.cmd7$Helper$Writer@63c906ae\n",
       "\u001b[36mnovel\u001b[39m: \u001b[32mNovel\u001b[39m = ammonite.$sess.cmd8$Helper$Novel@1f9a1330"
      ]
     },
     "execution_count": 10,
     "metadata": {},
     "output_type": "execute_result"
    }
   ],
   "source": [
    "val author = new Writer(\"Charles\", \"Dickens\", 1812)\n",
    "val novel = new Novel(\"Great Expectations\", 1867, author)\n"
   ]
  },
  {
   "cell_type": "code",
   "execution_count": 11,
   "metadata": {},
   "outputs": [
    {
     "name": "stdout",
     "output_type": "stream",
     "text": [
      "55\n",
      "Charles Dickens\n",
      "Charles Dickens\n"
     ]
    }
   ],
   "source": [
    "println(novel.authorAge)\n",
    "println(novel.isWrittenBy)\n",
    "println(author.fullname)\n"
   ]
  },
  {
   "cell_type": "code",
   "execution_count": 12,
   "metadata": {},
   "outputs": [
    {
     "data": {
      "text/plain": [
       "defined \u001b[32mclass\u001b[39m \u001b[36mMyList\u001b[39m\n",
       "defined \u001b[32mclass\u001b[39m \u001b[36mMyMap\u001b[39m"
      ]
     },
     "execution_count": 12,
     "metadata": {},
     "output_type": "execute_result"
    }
   ],
   "source": [
    "class MyList[A]{\n",
    "\n",
    "}\n",
    "\n",
    "class MyMap[Key, Value]{\n",
    "    \n",
    "}"
   ]
  },
  {
   "cell_type": "code",
   "execution_count": 13,
   "metadata": {},
   "outputs": [
    {
     "data": {
      "text/plain": [
       "\u001b[36mlistOfInts\u001b[39m: \u001b[32mMyList\u001b[39m[\u001b[32mInt\u001b[39m] = ammonite.$sess.cmd11$Helper$MyList@23e5d9c1\n",
       "\u001b[36mlistOfStrings\u001b[39m: \u001b[32mMyList\u001b[39m[\u001b[32mString\u001b[39m] = ammonite.$sess.cmd11$Helper$MyList@3abdf66c"
      ]
     },
     "execution_count": 13,
     "metadata": {},
     "output_type": "execute_result"
    }
   ],
   "source": [
    "val listOfInts = new MyList[Int]\n",
    "val listOfStrings = new MyList[String]"
   ]
  },
  {
   "cell_type": "code",
   "execution_count": 14,
   "metadata": {},
   "outputs": [
    {
     "data": {
      "text/plain": [
       "defined \u001b[32mfunction\u001b[39m \u001b[36mempty\u001b[39m"
      ]
     },
     "execution_count": 14,
     "metadata": {},
     "output_type": "execute_result"
    }
   ],
   "source": [
    "def empty[A]: MyList[A] = ???"
   ]
  },
  {
   "cell_type": "code",
   "execution_count": 15,
   "metadata": {},
   "outputs": [
    {
     "data": {
      "text/plain": [
       "\u001b[32mimport \u001b[39m\u001b[36mjava.awt.{BorderLayout, Dimension}\n",
       "\u001b[39m\n",
       "\u001b[32mimport \u001b[39m\u001b[36mjavax.swing._\u001b[39m"
      ]
     },
     "execution_count": 15,
     "metadata": {},
     "output_type": "execute_result"
    }
   ],
   "source": [
    "import java.awt.{BorderLayout, Dimension}\n",
    "import javax.swing._"
   ]
  },
  {
   "cell_type": "markdown",
   "metadata": {},
   "source": [
    "### Java Swing Window"
   ]
  },
  {
   "cell_type": "code",
   "execution_count": 16,
   "metadata": {},
   "outputs": [
    {
     "data": {
      "text/plain": [
       "defined \u001b[32mfunction\u001b[39m \u001b[36mmySwingApp\u001b[39m"
      ]
     },
     "execution_count": 16,
     "metadata": {},
     "output_type": "execute_result"
    }
   ],
   "source": [
    "def mySwingApp = {\n",
    "    val frame = new JFrame(\"My App\")\n",
    "    val textArea = new JTextArea(\"Hello, Scala World\")\n",
    "    val scrollPane = new JScrollPane(textArea)\n",
    "    SwingUtilities.invokeLater(new Runnable {\n",
    "        def run = {\n",
    "            frame.getContentPane.add(scrollPane, BorderLayout.CENTER)\n",
    "            frame.setSize(800, 600)\n",
    "            frame.setLocationRelativeTo(null)\n",
    "            frame.setDefaultCloseOperation(WindowConstants.EXIT_ON_CLOSE)\n",
    "            frame.setVisible(true)\n",
    "        }\n",
    "    })\n",
    "}"
   ]
  },
  {
   "cell_type": "markdown",
   "metadata": {},
   "source": [
    "### Types"
   ]
  },
  {
   "cell_type": "code",
   "execution_count": 1,
   "metadata": {},
   "outputs": [
    {
     "data": {
      "text/plain": [
       "defined \u001b[32mfunction\u001b[39m \u001b[36mfirst\u001b[39m\n",
       "\u001b[36mres0_1\u001b[39m: \u001b[32mInt\u001b[39m = \u001b[32m1\u001b[39m"
      ]
     },
     "execution_count": 1,
     "metadata": {},
     "output_type": "execute_result"
    }
   ],
   "source": [
    "//  Ignore possible errors that can occur\n",
    "def first(xs: Seq[Int]): Int = xs(0)\n",
    "first(List(1,2,3))"
   ]
  },
  {
   "cell_type": "code",
   "execution_count": 1,
   "metadata": {},
   "outputs": [
    {
     "data": {
      "text/plain": [
       "defined \u001b[32mfunction\u001b[39m \u001b[36mfirst\u001b[39m"
      ]
     },
     "execution_count": 1,
     "metadata": {},
     "output_type": "execute_result"
    }
   ],
   "source": [
    "// can write that method with generic type:\n",
    "def first[A](xs: Seq[A]): A = xs(0)"
   ]
  },
  {
   "cell_type": "code",
   "execution_count": 3,
   "metadata": {},
   "outputs": [
    {
     "name": "stdout",
     "output_type": "stream",
     "text": [
      "(String, 99)\n"
     ]
    },
    {
     "data": {
      "text/plain": [
       "defined \u001b[32mclass\u001b[39m \u001b[36mPair\u001b[39m\n",
       "\u001b[36mpair2\u001b[39m: \u001b[32mPair\u001b[39m[\u001b[32mString\u001b[39m, \u001b[32mInt\u001b[39m] = (String, 99)"
      ]
     },
     "execution_count": 3,
     "metadata": {},
     "output_type": "execute_result"
    }
   ],
   "source": [
    "// tuple class remake\n",
    "class Pair[A, B](val a: A, val b: B){\n",
    "    override def toString = s\"($a, $b)\"\n",
    "}\n",
    "\n",
    "val pair2 = new Pair(\"String\", 99)\n",
    "println(pair2)"
   ]
  },
  {
   "cell_type": "code",
   "execution_count": 1,
   "metadata": {},
   "outputs": [
    {
     "data": {
      "text/plain": [
       "defined \u001b[32mclass\u001b[39m \u001b[36mCat\u001b[39m\n",
       "defined \u001b[32mclass\u001b[39m \u001b[36mDog\u001b[39m\n",
       "defined \u001b[32mclass\u001b[39m \u001b[36mPair\u001b[39m"
      ]
     },
     "execution_count": 1,
     "metadata": {},
     "output_type": "execute_result"
    }
   ],
   "source": [
    "class Cat\n",
    "class Dog\n",
    "class Pair[A, B](val a: A, val b: B)"
   ]
  },
  {
   "cell_type": "code",
   "execution_count": 3,
   "metadata": {},
   "outputs": [
    {
     "data": {
      "text/plain": [
       "defined \u001b[32mtrait\u001b[39m \u001b[36mFoo\u001b[39m\n",
       "defined \u001b[32mclass\u001b[39m \u001b[36mBar\u001b[39m\n",
       "defined \u001b[32mclass\u001b[39m \u001b[36mBaz\u001b[39m"
      ]
     },
     "execution_count": 3,
     "metadata": {},
     "output_type": "execute_result"
    }
   ],
   "source": [
    "trait Foo[A, B] {\n",
    "    def pair(): Pair[A, B]\n",
    "}\n",
    "\n",
    "class Bar extends Foo[Cat, Dog] {\n",
    "    def pair(): Pair[Cat, Dog] = new Pair(new Cat(), new Dog())\n",
    "}\n",
    "\n",
    "class Baz extends Foo[String, Int] {\n",
    "    def pair(): Pair[String, Int] = new Pair(\"1\", 2)\n",
    "}"
   ]
  },
  {
   "cell_type": "markdown",
   "metadata": {},
   "source": [
    "### Bounds"
   ]
  },
  {
   "cell_type": "code",
   "execution_count": 5,
   "metadata": {},
   "outputs": [
    {
     "data": {
      "text/plain": [
       "defined \u001b[32mtrait\u001b[39m \u001b[36mSentientBeing\u001b[39m\n",
       "defined \u001b[32mfunction\u001b[39m \u001b[36mupperName\u001b[39m"
      ]
     },
     "execution_count": 5,
     "metadata": {},
     "output_type": "execute_result"
    }
   ],
   "source": [
    "trait SentientBeing {\n",
    "    def name: String\n",
    "}\n",
    "\n",
    "def upperName[A <: SentientBeing](a: A) = a.name.toUpperCase\n",
    "//  the above says that A must be a subclass of SentientBeing,\n",
    "//  so that it knows that is has a \"name\" field\n",
    "// This is called a \"Bound\" -->  [A <: SentientBeing]"
   ]
  },
  {
   "cell_type": "code",
   "execution_count": 7,
   "metadata": {},
   "outputs": [
    {
     "data": {
      "text/plain": [
       "defined \u001b[32mclass\u001b[39m \u001b[36mDog\u001b[39m\n",
       "defined \u001b[32mclass\u001b[39m \u001b[36mPerson\u001b[39m\n",
       "defined \u001b[32mclass\u001b[39m \u001b[36mSnake\u001b[39m"
      ]
     },
     "execution_count": 7,
     "metadata": {},
     "output_type": "execute_result"
    }
   ],
   "source": [
    "\n",
    "case class Dog(name: String) extends SentientBeing\n",
    "case class Person(name: String, age: Int) extends SentientBeing\n",
    "case class Snake(name: String) extends SentientBeing\n"
   ]
  },
  {
   "cell_type": "code",
   "execution_count": 8,
   "metadata": {},
   "outputs": [
    {
     "data": {
      "text/plain": [
       "\u001b[36mres7_0\u001b[39m: \u001b[32mString\u001b[39m = \u001b[32m\"ROVER\"\u001b[39m\n",
       "\u001b[36mres7_1\u001b[39m: \u001b[32mString\u001b[39m = \u001b[32m\"BOB\"\u001b[39m\n",
       "\u001b[36mres7_2\u001b[39m: \u001b[32mString\u001b[39m = \u001b[32m\"VECTUS\"\u001b[39m"
      ]
     },
     "execution_count": 8,
     "metadata": {},
     "output_type": "execute_result"
    }
   ],
   "source": [
    "upperName(new Dog(\"rover\"))\n",
    "upperName(new Person(\"Bob\", 34))\n",
    "upperName(new Snake(\"Vectus\"))"
   ]
  },
  {
   "cell_type": "markdown",
   "metadata": {},
   "source": [
    "A <: B  --> Upper Bound --> A must be a subtype of B   \n",
    "A >: B  --> Lower Bound --> A must be a supertype of B   \n",
    "a <: Upper >: Lower --> Lower and upper bounds used together --> The type A has both an upper and lower bound   "
   ]
  },
  {
   "cell_type": "code",
   "execution_count": 13,
   "metadata": {},
   "outputs": [
    {
     "data": {
      "text/plain": [
       "defined \u001b[32mfunction\u001b[39m \u001b[36mrandomElement\u001b[39m\n",
       "\u001b[36mres12_1\u001b[39m: \u001b[32mString\u001b[39m = \u001b[32m\"Emily\"\u001b[39m\n",
       "\u001b[36mres12_2\u001b[39m: \u001b[32mInt\u001b[39m = \u001b[32m3\u001b[39m\n",
       "\u001b[36mres12_3\u001b[39m: \u001b[32mDouble\u001b[39m = \u001b[32m5.0\u001b[39m"
      ]
     },
     "execution_count": 13,
     "metadata": {},
     "output_type": "execute_result"
    }
   ],
   "source": [
    "def randomElement[A](seq: Seq[A]): A = {\n",
    "    val randomNum = scala.util.Random.nextInt(seq.length)\n",
    "    seq(randomNum)\n",
    "}\n",
    "\n",
    "randomElement(Seq(\"Emily\", \"Sarah\", \"Julie\"))\n",
    "randomElement(List(1, 2, 3))\n",
    "randomElement(Vector(1.0, 5.0, 6.7))"
   ]
  },
  {
   "cell_type": "code",
   "execution_count": 14,
   "metadata": {},
   "outputs": [
    {
     "data": {
      "text/plain": [
       "defined \u001b[32mclass\u001b[39m \u001b[36mLinkedList\u001b[39m"
      ]
     },
     "execution_count": 14,
     "metadata": {},
     "output_type": "execute_result"
    }
   ],
   "source": [
    "class LinkedList[A] {\n",
    "    private class Node[A] (elem: A) {\n",
    "        var next: Node[A] = _\n",
    "        override def toString = elem.toString\n",
    "    }\n",
    "\n",
    "    private var head: Node[A] = _\n",
    "\n",
    "    def add(elem: A): Unit = {\n",
    "        val n = new Node(elem)\n",
    "        n.next = head\n",
    "        head = n\n",
    "    }\n",
    "\n",
    "    private def printNodes(n: Node[A]): Unit = {\n",
    "        if (n != null) {\n",
    "            println(n)\n",
    "            printNodes(n.next)\n",
    "        }\n",
    "\n",
    "    def printAll() = printNodes(head)\n",
    "    }\n",
    "\n",
    "}"
   ]
  },
  {
   "cell_type": "code",
   "execution_count": 20,
   "metadata": {},
   "outputs": [
    {
     "data": {
      "text/plain": [
       "\u001b[36mlinkedInts\u001b[39m: \u001b[32mLinkedList\u001b[39m[\u001b[32mInt\u001b[39m] = ammonite.$sess.cmd13$Helper$LinkedList@6adcfaa6"
      ]
     },
     "execution_count": 20,
     "metadata": {},
     "output_type": "execute_result"
    }
   ],
   "source": [
    "val linkedInts = new LinkedList[Int]()"
   ]
  },
  {
   "cell_type": "code",
   "execution_count": 22,
   "metadata": {},
   "outputs": [
    {
     "data": {
      "text/plain": [
       "defined \u001b[32mobject\u001b[39m \u001b[36mLinkedList\u001b[39m"
      ]
     },
     "execution_count": 22,
     "metadata": {},
     "output_type": "execute_result"
    }
   ],
   "source": [
    "object LinkedList {\n",
    "    def empty[A]: LinkedList[A] = ???\n",
    "}\n"
   ]
  },
  {
   "cell_type": "markdown",
   "metadata": {},
   "source": [
    "classes, methods, traits can be type parameterized  \n",
    "objects cant"
   ]
  },
  {
   "cell_type": "markdown",
   "metadata": {},
   "source": [
    "### Variance Problem"
   ]
  },
  {
   "cell_type": "code",
   "execution_count": 1,
   "metadata": {},
   "outputs": [
    {
     "data": {
      "text/plain": [
       "defined \u001b[32mclass\u001b[39m \u001b[36mAnimal\u001b[39m\n",
       "defined \u001b[32mclass\u001b[39m \u001b[36mCat\u001b[39m\n",
       "defined \u001b[32mclass\u001b[39m \u001b[36mDog\u001b[39m\n",
       "defined \u001b[32mclass\u001b[39m \u001b[36mCovariantList\u001b[39m\n",
       "\u001b[36manimal\u001b[39m: \u001b[32mAnimal\u001b[39m = ammonite.$sess.cmd0$Helper$Cat@fb7eba2\n",
       "\u001b[36manimalList\u001b[39m: \u001b[32mCovariantList\u001b[39m[\u001b[32mAnimal\u001b[39m] = ammonite.$sess.cmd0$Helper$CovariantList@40515027\n",
       "defined \u001b[32mclass\u001b[39m \u001b[36mInvariantList\u001b[39m\n",
       "\u001b[36mInvariantAnimalList\u001b[39m: \u001b[32mInvariantList\u001b[39m[\u001b[32mAnimal\u001b[39m] = ammonite.$sess.cmd0$Helper$InvariantList@265313b1\n",
       "defined \u001b[32mclass\u001b[39m \u001b[36mContravariantList\u001b[39m\n",
       "\u001b[36mcontravariantAnimalList\u001b[39m: \u001b[32mContravariantList\u001b[39m[\u001b[32mCat\u001b[39m] = ammonite.$sess.cmd0$Helper$ContravariantList@3edafd23\n",
       "defined \u001b[32mclass\u001b[39m \u001b[36mTrainer\u001b[39m\n",
       "\u001b[36mtrainer\u001b[39m: \u001b[32mTrainer\u001b[39m[\u001b[32mCat\u001b[39m] = ammonite.$sess.cmd0$Helper$Trainer@7369a497"
      ]
     },
     "execution_count": 1,
     "metadata": {},
     "output_type": "execute_result"
    }
   ],
   "source": [
    "class Animal\n",
    "class Cat extends Animal\n",
    "class Dog extends Animal\n",
    "\n",
    "// 1) Yes, List[Cat] extends List[Animal] --> COVARIANCE\n",
    "class CovariantList[+A]\n",
    "val animal: Animal = new Cat()\n",
    "val animalList: CovariantList[Animal] = new CovariantList[Cat]\n",
    "// animalList.add(Dog) ??? What happens? --> We would return a list of Animals\n",
    "\n",
    "// 2) No, List[Cat] does not extend List[Animal] --> INVARIANCE\n",
    "class InvariantList[A]\n",
    "val InvariantAnimalList: InvariantList[Animal] = new InvariantList[Animal]\n",
    "\n",
    "// 3) No, Opposite of COVARIANCE --> CONTRAVARIANCE\n",
    "class ContravariantList[-A]\n",
    "val contravariantAnimalList: ContravariantList[Cat] = new ContravariantList[Animal]\n",
    "\n",
    "// CONTRAVARIANCE is intuitive, but look at this example:\n",
    "class Trainer[-A]\n",
    "val trainer: Trainer[Cat] = new Trainer[Animal]\n",
    "\n",
    "\n",
    "\n",
    "\n"
   ]
  },
  {
   "cell_type": "code",
   "execution_count": 4,
   "metadata": {},
   "outputs": [
    {
     "data": {
      "text/plain": [
       "defined \u001b[32mclass\u001b[39m \u001b[36mContainerINV\u001b[39m\n",
       "defined \u001b[32mclass\u001b[39m \u001b[36mContainerCOV\u001b[39m\n",
       "defined \u001b[32mclass\u001b[39m \u001b[36mContainerCONTRA\u001b[39m"
      ]
     },
     "execution_count": 4,
     "metadata": {},
     "output_type": "execute_result"
    }
   ],
   "source": [
    "class ContainerINV[A](a: A)  \n",
    "    //invariant (the types have to be the same, no extensions can be substituted)\n",
    "class ContainerCOV[+A](a: A) \n",
    "    //covariant (if Dog extends Animal, then ContainerCOV[Dog] \n",
    "    // can be used when ContainerCOV[Animal] is expected)\n",
    "class ContainerCONTRA[-A](a: A) \n",
    "    //contravariant *counter-intuitive* (if Dog extends Animal, \n",
    "    // then ContainerCONTRA[Animal] can be used when ContainerCONTRA[Dog] is expected)\n"
   ]
  },
  {
   "cell_type": "code",
   "execution_count": 7,
   "metadata": {},
   "outputs": [
    {
     "data": {
      "text/plain": [
       "defined \u001b[32mclass\u001b[39m \u001b[36mAnimal\u001b[39m\n",
       "defined \u001b[32mclass\u001b[39m \u001b[36mDog\u001b[39m\n",
       "defined \u001b[32mclass\u001b[39m \u001b[36mContainer1\u001b[39m\n",
       "defined \u001b[32mclass\u001b[39m \u001b[36mContainer2\u001b[39m\n",
       "defined \u001b[32mclass\u001b[39m \u001b[36mContainer3\u001b[39m\n",
       "defined \u001b[32mfunction\u001b[39m \u001b[36min\u001b[39m\n",
       "defined \u001b[32mfunction\u001b[39m \u001b[36mco\u001b[39m\n",
       "defined \u001b[32mfunction\u001b[39m \u001b[36mcontra\u001b[39m"
      ]
     },
     "execution_count": 7,
     "metadata": {},
     "output_type": "execute_result"
    }
   ],
   "source": [
    "class Animal\n",
    "class Dog extends Animal\n",
    "\n",
    "class Container1[A](a: A)\n",
    "class Container2[+A](a: A)\n",
    "class Container3[-A](a: A)\n",
    "// Method defined to accept a parameter Container[Animal]\n",
    "def in(c: Container1[Animal]) = new Container1(new Animal)  //This works, pretty normal\n",
    "def co(c: Container2[Animal]) = new Container2(new Dog)  //This works, makes sense- dog extends Animal\n",
    "def contra(c: Container3[Dog]) = new Container3(new Animal) //This works, counter intuitive\n",
    "// So, Can you pass it a Container[Dog]?\n",
    "// ANSWERS:\n",
    "    // invariance --> NO\n",
    "    // covariance --> YES, you can pass a Container[Dog] for a Container[Animal]\n",
    "    // contravariances --> Opposite, you can pass a Container[Animal] for a Container[Dog]\n"
   ]
  },
  {
   "cell_type": "code",
   "execution_count": 19,
   "metadata": {},
   "outputs": [
    {
     "data": {
      "text/plain": [
       "defined \u001b[32mtrait\u001b[39m \u001b[36mProducer\u001b[39m\n",
       "defined \u001b[32mtrait\u001b[39m \u001b[36mConsumer\u001b[39m\n",
       "defined \u001b[32mtrait\u001b[39m \u001b[36mProducerConsumer\u001b[39m"
      ]
     },
     "execution_count": 19,
     "metadata": {},
     "output_type": "execute_result"
    }
   ],
   "source": [
    "// covariant: A is only ever used in the \"out\" position\n",
    "trait Producer[+A] {\n",
    "    def get: A\n",
    "}\n",
    "\n",
    "// contravariant: A is only ever used in the \"in\" position\n",
    "trait Consumer[-A] {\n",
    "    def consume(a: A): Unit\n",
    "}\n",
    "\n",
    "// invariant: A is used in the \"in\" and \"out\" positions\n",
    "trait ProducerConsumer[A] {\n",
    "    def consume(a: A): Unit\n",
    "    def produce(): A\n",
    "}\n"
   ]
  },
  {
   "cell_type": "code",
   "execution_count": 20,
   "metadata": {},
   "outputs": [
    {
     "data": {
      "text/plain": [
       "defined \u001b[32mtype\u001b[39m \u001b[36mA\u001b[39m"
      ]
     },
     "execution_count": 20,
     "metadata": {},
     "output_type": "execute_result"
    }
   ],
   "source": []
  },
  {
   "cell_type": "code",
   "execution_count": null,
   "metadata": {},
   "outputs": [],
   "source": []
  },
  {
   "cell_type": "code",
   "execution_count": 12,
   "metadata": {},
   "outputs": [
    {
     "data": {
      "text/plain": [
       "defined \u001b[32mtrait\u001b[39m \u001b[36mAnimal\u001b[39m\n",
       "defined \u001b[32mclass\u001b[39m \u001b[36mDog\u001b[39m"
      ]
     },
     "execution_count": 12,
     "metadata": {},
     "output_type": "execute_result"
    }
   ],
   "source": [
    "sealed trait Animal {\n",
    "    def name: String\n",
    "}\n",
    "\n",
    "case class Dog(name: String) extends Animal"
   ]
  },
  {
   "cell_type": "code",
   "execution_count": 16,
   "metadata": {},
   "outputs": [
    {
     "data": {
      "text/plain": [
       "defined \u001b[32mtrait\u001b[39m \u001b[36mDatabase\u001b[39m\n",
       "defined \u001b[32mclass\u001b[39m \u001b[36mPerson\u001b[39m\n",
       "defined \u001b[32mclass\u001b[39m \u001b[36mAnimal\u001b[39m\n",
       "defined \u001b[32mclass\u001b[39m \u001b[36mLocalDatabase\u001b[39m\n",
       "defined \u001b[32mclass\u001b[39m \u001b[36mMongoDB\u001b[39m"
      ]
     },
     "execution_count": 16,
     "metadata": {},
     "output_type": "execute_result"
    }
   ],
   "source": [
    "sealed trait Database[A] {\n",
    "    def insert(value: A)\n",
    "    def delete(value: A)\n",
    "    def update(old: A, `new`: A)\n",
    "}\n",
    "\n",
    "case class Person(name: String, age: Int, hobbies: List[String])\n",
    "case class Animal(name: String, color: String, owner: Person)\n",
    "\n",
    "case class LocalDatabase() extends Database[Person] {\n",
    "    override def insert(value: Person): Unit = ???\n",
    "    override def delete(value: Person): Unit = ???\n",
    "    override def update(old: Person, `new`: Person): Unit = ???\n",
    "} \n",
    "\n",
    "case class MongoDB() extends Database[Animal] {\n",
    "    override def insert(value: Animal): Unit = ???\n",
    "    override def delete(value: Animal): Unit = ???\n",
    "    override def update(old: Animal, `new`: Animal): Unit = ???\n",
    "} \n"
   ]
  },
  {
   "cell_type": "code",
   "execution_count": 18,
   "metadata": {},
   "outputs": [
    {
     "data": {
      "text/plain": [
       "defined \u001b[32mtrait\u001b[39m \u001b[36mShape\u001b[39m\n",
       "defined \u001b[32mobject\u001b[39m \u001b[36mCircle\u001b[39m\n",
       "defined \u001b[32mobject\u001b[39m \u001b[36mLine\u001b[39m\n",
       "defined \u001b[32mobject\u001b[39m \u001b[36mRectangle\u001b[39m\n",
       "defined \u001b[32mobject\u001b[39m \u001b[36mShapeArea\u001b[39m"
      ]
     },
     "execution_count": 18,
     "metadata": {},
     "output_type": "execute_result"
    }
   ],
   "source": [
    "sealed trait Shape\n",
    "object Circle extends Shape\n",
    "object Line extends Shape\n",
    "object Rectangle extends Shape\n",
    "\n",
    "\n",
    "object ShapeArea {\n",
    "    def getType(value: String): Shape = ???\n",
    "    val name = \"Circle\"\n",
    "    getType(name) match {\n",
    "        case Circle => //Do something\n",
    "        case Line => //Do something\n",
    "    }\n",
    "}\n"
   ]
  },
  {
   "cell_type": "markdown",
   "metadata": {},
   "source": [
    "### Back to Bounded Types:"
   ]
  },
  {
   "cell_type": "code",
   "execution_count": 2,
   "metadata": {},
   "outputs": [
    {
     "data": {
      "text/plain": [
       "defined \u001b[32mclass\u001b[39m \u001b[36mCage\u001b[39m\n",
       "\u001b[36mcage\u001b[39m: \u001b[32mCage\u001b[39m[\u001b[32mDog\u001b[39m] = ammonite.$sess.cmd1$Helper$Cage@1bd2247f\n",
       "defined \u001b[32mclass\u001b[39m \u001b[36mCar\u001b[39m"
      ]
     },
     "execution_count": 2,
     "metadata": {},
     "output_type": "execute_result"
    }
   ],
   "source": [
    "class Cage[A <: Animal](animal: A) \n",
    "\n",
    "val cage = new Cage(new Dog)\n",
    "\n",
    "\n",
    "class Car\n",
    "//val newCage = new Cage(new Car)"
   ]
  },
  {
   "cell_type": "code",
   "execution_count": 3,
   "metadata": {},
   "outputs": [
    {
     "data": {
      "text/plain": [
       "defined \u001b[32mclass\u001b[39m \u001b[36mCage2\u001b[39m\n",
       "\u001b[36mcage\u001b[39m: \u001b[32mCage2\u001b[39m[\u001b[32mAnimal\u001b[39m] = ammonite.$sess.cmd2$Helper$Cage2@2ee78bd1\n",
       "defined \u001b[32mclass\u001b[39m \u001b[36mCar2\u001b[39m"
      ]
     },
     "execution_count": 3,
     "metadata": {},
     "output_type": "execute_result"
    }
   ],
   "source": [
    "class Cage2[A >: Animal](animal: A) \n",
    "\n",
    "val cage = new Cage2(new Dog)\n",
    "\n",
    "\n",
    "class Car2\n",
    "//val newCage2 = new Cage2(new Car2)"
   ]
  },
  {
   "cell_type": "code",
   "execution_count": 11,
   "metadata": {},
   "outputs": [
    {
     "data": {
      "text/plain": [
       "\u001b[36mpracticePartial\u001b[39m: \u001b[32mAnyRef\u001b[39m with \u001b[32mPartialFunction\u001b[39m[\u001b[32mInt\u001b[39m, \u001b[32mInt\u001b[39m] = <function1>\n",
       "\u001b[36mlst\u001b[39m: \u001b[32mList\u001b[39m[\u001b[32mInt\u001b[39m] = \u001b[33mList\u001b[39m(\u001b[32m1\u001b[39m, \u001b[32m2\u001b[39m, \u001b[32m3\u001b[39m, \u001b[32m4\u001b[39m, \u001b[32m5\u001b[39m, \u001b[32m6\u001b[39m, \u001b[32m7\u001b[39m, \u001b[32m8\u001b[39m, \u001b[32m9\u001b[39m, \u001b[32m10\u001b[39m, \u001b[32m11\u001b[39m, \u001b[32m12\u001b[39m, \u001b[32m13\u001b[39m, \u001b[32m14\u001b[39m, \u001b[32m15\u001b[39m)\n",
       "\u001b[36mres10_2\u001b[39m: \u001b[32mList\u001b[39m[\u001b[32mInt\u001b[39m] = \u001b[33mList\u001b[39m(\u001b[32m11\u001b[39m, \u001b[32m12\u001b[39m, \u001b[32m13\u001b[39m, \u001b[32m14\u001b[39m, \u001b[32m15\u001b[39m, \u001b[32m16\u001b[39m, \u001b[32m17\u001b[39m, \u001b[32m18\u001b[39m, \u001b[32m19\u001b[39m)"
      ]
     },
     "execution_count": 11,
     "metadata": {},
     "output_type": "execute_result"
    }
   ],
   "source": [
    "val practicePartial = new PartialFunction[Int, Int] {\n",
    "    def apply(i: Int) = i + 10\n",
    "    def isDefinedAt(i: Int) = i > 0 && i < 10\n",
    "}\n",
    "\n",
    "val lst = List(1, 2, 3, 4, 5, 6, 7, 8, 9, 10, 11, 12, 13, 14, 15)\n",
    "lst.collect(practicePartial)\n",
    "\n"
   ]
  },
  {
   "cell_type": "code",
   "execution_count": 22,
   "metadata": {},
   "outputs": [
    {
     "name": "stdout",
     "output_type": "stream",
     "text": [
      "Paris\n"
     ]
    },
    {
     "data": {
      "text/html": [
       "<div class=\"jp-RenderedText\">\n",
       "<pre><code><span style=\"color: rgb(0, 187, 187)\"><span class=\"ansi-cyan-fg\">capital</span></span>: <span style=\"color: rgb(0, 187, 0)\"><span class=\"ansi-green-fg\">Map</span></span>[<span style=\"color: rgb(0, 187, 0)\"><span class=\"ansi-green-fg\">String</span></span>, <span style=\"color: rgb(0, 187, 0)\"><span class=\"ansi-green-fg\">String</span></span>] = <span style=\"color: yellow\"><span class=\"ansi-yellow-fg\">Map</span></span>(\n",
       "  <span style=\"color: rgb(0, 187, 0)\"><span class=\"ansi-green-fg\">&quot;US&quot;</span></span> -&gt; <span style=\"color: rgb(0, 187, 0)\"><span class=\"ansi-green-fg\">&quot;Washington&quot;</span></span>,\n",
       "  <span style=\"color: rgb(0, 187, 0)\"><span class=\"ansi-green-fg\">&quot;France&quot;</span></span> -&gt; <span style=\"color: rgb(0, 187, 0)\"><span class=\"ansi-green-fg\">&quot;Paris&quot;</span></span>,\n",
       "  <span style=\"color: rgb(0, 187, 0)\"><span class=\"ansi-green-fg\">&quot;Japan&quot;</span></span> -&gt; <span style=\"color: rgb(0, 187, 0)\"><span class=\"ansi-green-fg\">&quot;Tokyo&quot;</span></span>\n",
       ")</code></pre>\n",
       "</div>"
      ],
      "text/plain": [
       "\u001b[36mcapital\u001b[39m: \u001b[32mMap\u001b[39m[\u001b[32mString\u001b[39m, \u001b[32mString\u001b[39m] = \u001b[33mMap\u001b[39m(\n",
       "  \u001b[32m\"US\"\u001b[39m -> \u001b[32m\"Washington\"\u001b[39m,\n",
       "  \u001b[32m\"France\"\u001b[39m -> \u001b[32m\"Paris\"\u001b[39m,\n",
       "  \u001b[32m\"Japan\"\u001b[39m -> \u001b[32m\"Tokyo\"\u001b[39m\n",
       ")"
      ]
     },
     "metadata": {},
     "output_type": "display_data"
    }
   ],
   "source": [
    "var capital: Map[String, String] = Map(\"US\" -> \"Washington\", \"France\" -> \"Paris\")\n",
    "capital += (\"Japan\" -> \"Tokyo\")\n",
    "println(capital(\"France\"))"
   ]
  },
  {
   "cell_type": "code",
   "execution_count": 24,
   "metadata": {},
   "outputs": [
    {
     "name": "stderr",
     "output_type": "stream",
     "text": [
      "cmd24.sc:1: not found: type tailrec\n",
      "@tailrec\n",
      " ^Compilation Failed"
     ]
    },
    {
     "ename": "",
     "evalue": "",
     "output_type": "error",
     "traceback": [
      "Compilation Failed"
     ]
    }
   ],
   "source": [
    "// Scala2\n",
    "def factorial(x: BigInt): BigInt = {\n",
    "    if (x == 0) {\n",
    "       1 \n",
    "    } else {\n",
    "        x * factorial(x-1)\n",
    "    }\n",
    "}"
   ]
  },
  {
   "cell_type": "code",
   "execution_count": null,
   "metadata": {},
   "outputs": [],
   "source": [
    " // Scala3 \n",
    "def factorial(x: BigInt): BigInt = \n",
    "    if x == 0 then 1 else x * factorial(x-1)   "
   ]
  },
  {
   "cell_type": "code",
   "execution_count": 24,
   "metadata": {},
   "outputs": [
    {
     "data": {
      "text/plain": [
       "\u001b[36mres23\u001b[39m: \u001b[32mBigInt\u001b[39m = 265252859812191058636308480000000"
      ]
     },
     "execution_count": 24,
     "metadata": {},
     "output_type": "execute_result"
    }
   ],
   "source": [
    "factorial(30)"
   ]
  },
  {
   "cell_type": "code",
   "execution_count": null,
   "metadata": {},
   "outputs": [],
   "source": []
  }
 ],
 "metadata": {
  "kernelspec": {
   "display_name": "Scala",
   "language": "scala",
   "name": "scala"
  },
  "language_info": {
   "codemirror_mode": "text/x-scala",
   "file_extension": ".sc",
   "mimetype": "text/x-scala",
   "name": "scala",
   "nbconvert_exporter": "script",
   "version": "2.13.10"
  },
  "orig_nbformat": 4
 },
 "nbformat": 4,
 "nbformat_minor": 2
}
