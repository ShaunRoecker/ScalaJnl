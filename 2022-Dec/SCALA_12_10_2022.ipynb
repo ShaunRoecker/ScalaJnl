{
 "cells": [
  {
   "cell_type": "markdown",
   "metadata": {},
   "source": [
    "## ScalaNotes December 10, 2022"
   ]
  },
  {
   "cell_type": "code",
   "execution_count": 2,
   "metadata": {},
   "outputs": [
    {
     "data": {
      "text/plain": [
       "defined \u001b[32mclass\u001b[39m \u001b[36mPerson\u001b[39m\n",
       "\u001b[36mperson\u001b[39m: \u001b[32mPerson\u001b[39m = ammonite.$sess.cmd1$Helper$Person@4fb3ebf5"
      ]
     },
     "execution_count": 2,
     "metadata": {},
     "output_type": "execute_result"
    }
   ],
   "source": [
    "// OO Basics\n",
    "class Person\n",
    "\n",
    "val person = new Person\n"
   ]
  },
  {
   "cell_type": "markdown",
   "metadata": {},
   "source": []
  },
  {
   "cell_type": "code",
   "execution_count": 3,
   "metadata": {},
   "outputs": [
    {
     "data": {
      "text/plain": [
       "defined \u001b[32mclass\u001b[39m \u001b[36mPerson\u001b[39m"
      ]
     },
     "execution_count": 3,
     "metadata": {},
     "output_type": "execute_result"
    }
   ],
   "source": [
    "// case class\n",
    "case class Person(name: String, age: Int, email: String) {\n",
    "    override def toString = s\"Name: $name, Age: $age\"\n",
    "}"
   ]
  },
  {
   "cell_type": "code",
   "execution_count": 4,
   "metadata": {},
   "outputs": [
    {
     "data": {
      "text/plain": [
       "\u001b[36mperson\u001b[39m: \u001b[32mPerson\u001b[39m = \u001b[33mPerson\u001b[39m(name = \u001b[32m\"Shaun\"\u001b[39m, age = \u001b[32m33\u001b[39m, email = \u001b[32m\"shaun@gmail.com\"\u001b[39m)"
      ]
     },
     "execution_count": 4,
     "metadata": {},
     "output_type": "execute_result"
    }
   ],
   "source": [
    "val person = Person(name=\"Shaun\", age=33, email=\"shaun@gmail.com\")"
   ]
  },
  {
   "cell_type": "code",
   "execution_count": 5,
   "metadata": {},
   "outputs": [
    {
     "name": "stdout",
     "output_type": "stream",
     "text": [
      "Name: Shaun, Age: 33\n"
     ]
    }
   ],
   "source": [
    "println(person)"
   ]
  },
  {
   "cell_type": "code",
   "execution_count": 6,
   "metadata": {},
   "outputs": [
    {
     "data": {
      "text/plain": [
       "defined \u001b[32mclass\u001b[39m \u001b[36mPerson\u001b[39m"
      ]
     },
     "execution_count": 6,
     "metadata": {},
     "output_type": "execute_result"
    }
   ],
   "source": [
    "//classes\n",
    "// class parameters are not fields, need to add val or var to create class fields in the constructor\n",
    "class Person(val name: String, var age: Int = 10) {  // <- constructor\n",
    "\n",
    "\n",
    "   // overriding extended methods\n",
    "   override def toString = s\"Name: $name, Age: $age\"\n",
    "\n",
    "   // method\n",
    "   def greet(name: String): Unit = println(s\"${this.name} says: Hi, ${name}!\")\n",
    "   // overloading\n",
    "   def greet: Unit = println(s\"Hi, I'm ${this.name}\")\n",
    "\n",
    "}"
   ]
  },
  {
   "cell_type": "code",
   "execution_count": 7,
   "metadata": {},
   "outputs": [
    {
     "data": {
      "text/plain": [
       "\u001b[36mperson\u001b[39m: \u001b[32mPerson\u001b[39m = Name: Shaun, Age: 33"
      ]
     },
     "execution_count": 7,
     "metadata": {},
     "output_type": "execute_result"
    }
   ],
   "source": [
    "val person = new Person(\"Shaun\", 33)\n"
   ]
  },
  {
   "cell_type": "code",
   "execution_count": 8,
   "metadata": {},
   "outputs": [
    {
     "data": {
      "text/plain": [
       "defined \u001b[32mclass\u001b[39m \u001b[36mWriter\u001b[39m"
      ]
     },
     "execution_count": 8,
     "metadata": {},
     "output_type": "execute_result"
    }
   ],
   "source": [
    "class Writer(val firstName: String, val lastName: String, val yearBorn: Int) {\n",
    "    def fullname: String = firstName + \" \" + lastName\n",
    "}"
   ]
  },
  {
   "cell_type": "code",
   "execution_count": 9,
   "metadata": {},
   "outputs": [
    {
     "data": {
      "text/plain": [
       "defined \u001b[32mclass\u001b[39m \u001b[36mNovel\u001b[39m"
      ]
     },
     "execution_count": 9,
     "metadata": {},
     "output_type": "execute_result"
    }
   ],
   "source": [
    "class Novel(val name: String, val yearOfRelease: Int, val author: Writer) {\n",
    "    def authorAge = yearOfRelease - author.yearBorn\n",
    "    def isWrittenBy: String = author.fullname\n",
    "    \n",
    "\n",
    "}"
   ]
  },
  {
   "cell_type": "code",
   "execution_count": 10,
   "metadata": {},
   "outputs": [
    {
     "data": {
      "text/plain": [
       "\u001b[36mauthor\u001b[39m: \u001b[32mWriter\u001b[39m = ammonite.$sess.cmd7$Helper$Writer@63c906ae\n",
       "\u001b[36mnovel\u001b[39m: \u001b[32mNovel\u001b[39m = ammonite.$sess.cmd8$Helper$Novel@1f9a1330"
      ]
     },
     "execution_count": 10,
     "metadata": {},
     "output_type": "execute_result"
    }
   ],
   "source": [
    "val author = new Writer(\"Charles\", \"Dickens\", 1812)\n",
    "val novel = new Novel(\"Great Expectations\", 1867, author)\n"
   ]
  },
  {
   "cell_type": "code",
   "execution_count": 11,
   "metadata": {},
   "outputs": [
    {
     "name": "stdout",
     "output_type": "stream",
     "text": [
      "55\n",
      "Charles Dickens\n",
      "Charles Dickens\n"
     ]
    }
   ],
   "source": [
    "println(novel.authorAge)\n",
    "println(novel.isWrittenBy)\n",
    "println(author.fullname)\n"
   ]
  },
  {
   "cell_type": "code",
   "execution_count": 12,
   "metadata": {},
   "outputs": [
    {
     "data": {
      "text/plain": [
       "defined \u001b[32mclass\u001b[39m \u001b[36mMyList\u001b[39m\n",
       "defined \u001b[32mclass\u001b[39m \u001b[36mMyMap\u001b[39m"
      ]
     },
     "execution_count": 12,
     "metadata": {},
     "output_type": "execute_result"
    }
   ],
   "source": [
    "class MyList[A]{\n",
    "\n",
    "}\n",
    "\n",
    "class MyMap[Key, Value]{\n",
    "    \n",
    "}"
   ]
  },
  {
   "cell_type": "code",
   "execution_count": 13,
   "metadata": {},
   "outputs": [
    {
     "data": {
      "text/plain": [
       "\u001b[36mlistOfInts\u001b[39m: \u001b[32mMyList\u001b[39m[\u001b[32mInt\u001b[39m] = ammonite.$sess.cmd11$Helper$MyList@23e5d9c1\n",
       "\u001b[36mlistOfStrings\u001b[39m: \u001b[32mMyList\u001b[39m[\u001b[32mString\u001b[39m] = ammonite.$sess.cmd11$Helper$MyList@3abdf66c"
      ]
     },
     "execution_count": 13,
     "metadata": {},
     "output_type": "execute_result"
    }
   ],
   "source": [
    "val listOfInts = new MyList[Int]\n",
    "val listOfStrings = new MyList[String]"
   ]
  },
  {
   "cell_type": "code",
   "execution_count": 14,
   "metadata": {},
   "outputs": [
    {
     "data": {
      "text/plain": [
       "defined \u001b[32mfunction\u001b[39m \u001b[36mempty\u001b[39m"
      ]
     },
     "execution_count": 14,
     "metadata": {},
     "output_type": "execute_result"
    }
   ],
   "source": [
    "def empty[A]: MyList[A] = ???"
   ]
  },
  {
   "cell_type": "code",
   "execution_count": 15,
   "metadata": {},
   "outputs": [
    {
     "data": {
      "text/plain": [
       "\u001b[32mimport \u001b[39m\u001b[36mjava.awt.{BorderLayout, Dimension}\n",
       "\u001b[39m\n",
       "\u001b[32mimport \u001b[39m\u001b[36mjavax.swing._\u001b[39m"
      ]
     },
     "execution_count": 15,
     "metadata": {},
     "output_type": "execute_result"
    }
   ],
   "source": [
    "import java.awt.{BorderLayout, Dimension}\n",
    "import javax.swing._"
   ]
  },
  {
   "cell_type": "markdown",
   "metadata": {},
   "source": [
    "### Java Swing Window"
   ]
  },
  {
   "cell_type": "code",
   "execution_count": 16,
   "metadata": {},
   "outputs": [
    {
     "data": {
      "text/plain": [
       "defined \u001b[32mfunction\u001b[39m \u001b[36mmySwingApp\u001b[39m"
      ]
     },
     "execution_count": 16,
     "metadata": {},
     "output_type": "execute_result"
    }
   ],
   "source": [
    "def mySwingApp = {\n",
    "    val frame = new JFrame(\"My App\")\n",
    "    val textArea = new JTextArea(\"Hello, Scala World\")\n",
    "    val scrollPane = new JScrollPane(textArea)\n",
    "    SwingUtilities.invokeLater(new Runnable {\n",
    "        def run = {\n",
    "            frame.getContentPane.add(scrollPane, BorderLayout.CENTER)\n",
    "            frame.setSize(800, 600)\n",
    "            frame.setLocationRelativeTo(null)\n",
    "            frame.setDefaultCloseOperation(WindowConstants.EXIT_ON_CLOSE)\n",
    "            frame.setVisible(true)\n",
    "        }\n",
    "    })\n",
    "}"
   ]
  },
  {
   "cell_type": "markdown",
   "metadata": {},
   "source": [
    "### Types"
   ]
  },
  {
   "cell_type": "code",
   "execution_count": 1,
   "metadata": {},
   "outputs": [
    {
     "data": {
      "text/plain": [
       "defined \u001b[32mfunction\u001b[39m \u001b[36mfirst\u001b[39m\n",
       "\u001b[36mres0_1\u001b[39m: \u001b[32mInt\u001b[39m = \u001b[32m1\u001b[39m"
      ]
     },
     "execution_count": 1,
     "metadata": {},
     "output_type": "execute_result"
    }
   ],
   "source": [
    "//  Ignore possible errors that can occur\n",
    "def first(xs: Seq[Int]): Int = xs(0)\n",
    "first(List(1,2,3))"
   ]
  },
  {
   "cell_type": "code",
   "execution_count": 1,
   "metadata": {},
   "outputs": [
    {
     "data": {
      "text/plain": [
       "defined \u001b[32mfunction\u001b[39m \u001b[36mfirst\u001b[39m"
      ]
     },
     "execution_count": 1,
     "metadata": {},
     "output_type": "execute_result"
    }
   ],
   "source": [
    "// can write that method with generic type:\n",
    "def first[A](xs: Seq[A]): A = xs(0)"
   ]
  },
  {
   "cell_type": "code",
   "execution_count": 3,
   "metadata": {},
   "outputs": [
    {
     "name": "stdout",
     "output_type": "stream",
     "text": [
      "(String, 99)\n"
     ]
    },
    {
     "data": {
      "text/plain": [
       "defined \u001b[32mclass\u001b[39m \u001b[36mPair\u001b[39m\n",
       "\u001b[36mpair2\u001b[39m: \u001b[32mPair\u001b[39m[\u001b[32mString\u001b[39m, \u001b[32mInt\u001b[39m] = (String, 99)"
      ]
     },
     "execution_count": 3,
     "metadata": {},
     "output_type": "execute_result"
    }
   ],
   "source": [
    "// tuple class remake\n",
    "class Pair[A, B](val a: A, val b: B){\n",
    "    override def toString = s\"($a, $b)\"\n",
    "}\n",
    "\n",
    "val pair2 = new Pair(\"String\", 99)\n",
    "println(pair2)"
   ]
  },
  {
   "cell_type": "code",
   "execution_count": 1,
   "metadata": {},
   "outputs": [
    {
     "data": {
      "text/plain": [
       "defined \u001b[32mclass\u001b[39m \u001b[36mCat\u001b[39m\n",
       "defined \u001b[32mclass\u001b[39m \u001b[36mDog\u001b[39m\n",
       "defined \u001b[32mclass\u001b[39m \u001b[36mPair\u001b[39m"
      ]
     },
     "execution_count": 1,
     "metadata": {},
     "output_type": "execute_result"
    }
   ],
   "source": [
    "class Cat\n",
    "class Dog\n",
    "class Pair[A, B](val a: A, val b: B)"
   ]
  },
  {
   "cell_type": "code",
   "execution_count": 3,
   "metadata": {},
   "outputs": [
    {
     "data": {
      "text/plain": [
       "defined \u001b[32mtrait\u001b[39m \u001b[36mFoo\u001b[39m\n",
       "defined \u001b[32mclass\u001b[39m \u001b[36mBar\u001b[39m\n",
       "defined \u001b[32mclass\u001b[39m \u001b[36mBaz\u001b[39m"
      ]
     },
     "execution_count": 3,
     "metadata": {},
     "output_type": "execute_result"
    }
   ],
   "source": [
    "trait Foo[A, B] {\n",
    "    def pair(): Pair[A, B]\n",
    "}\n",
    "\n",
    "class Bar extends Foo[Cat, Dog] {\n",
    "    def pair(): Pair[Cat, Dog] = new Pair(new Cat(), new Dog())\n",
    "}\n",
    "\n",
    "class Baz extends Foo[String, Int] {\n",
    "    def pair(): Pair[String, Int] = new Pair(\"1\", 2)\n",
    "}"
   ]
  },
  {
   "cell_type": "markdown",
   "metadata": {},
   "source": [
    "### Bounds"
   ]
  },
  {
   "cell_type": "code",
   "execution_count": 5,
   "metadata": {},
   "outputs": [
    {
     "data": {
      "text/plain": [
       "defined \u001b[32mtrait\u001b[39m \u001b[36mSentientBeing\u001b[39m\n",
       "defined \u001b[32mfunction\u001b[39m \u001b[36mupperName\u001b[39m"
      ]
     },
     "execution_count": 5,
     "metadata": {},
     "output_type": "execute_result"
    }
   ],
   "source": [
    "trait SentientBeing {\n",
    "    def name: String\n",
    "}\n",
    "\n",
    "def upperName[A <: SentientBeing](a: A) = a.name.toUpperCase\n",
    "//  the above says that A must be a subclass of SentientBeing,\n",
    "//  so that it knows that is has a \"name\" field\n",
    "// This is called a \"Bound\" -->  [A <: SentientBeing]"
   ]
  },
  {
   "cell_type": "code",
   "execution_count": 7,
   "metadata": {},
   "outputs": [
    {
     "data": {
      "text/plain": [
       "defined \u001b[32mclass\u001b[39m \u001b[36mDog\u001b[39m\n",
       "defined \u001b[32mclass\u001b[39m \u001b[36mPerson\u001b[39m\n",
       "defined \u001b[32mclass\u001b[39m \u001b[36mSnake\u001b[39m"
      ]
     },
     "execution_count": 7,
     "metadata": {},
     "output_type": "execute_result"
    }
   ],
   "source": [
    "\n",
    "case class Dog(name: String) extends SentientBeing\n",
    "case class Person(name: String, age: Int) extends SentientBeing\n",
    "case class Snake(name: String) extends SentientBeing\n"
   ]
  },
  {
   "cell_type": "code",
   "execution_count": 8,
   "metadata": {},
   "outputs": [
    {
     "data": {
      "text/plain": [
       "\u001b[36mres7_0\u001b[39m: \u001b[32mString\u001b[39m = \u001b[32m\"ROVER\"\u001b[39m\n",
       "\u001b[36mres7_1\u001b[39m: \u001b[32mString\u001b[39m = \u001b[32m\"BOB\"\u001b[39m\n",
       "\u001b[36mres7_2\u001b[39m: \u001b[32mString\u001b[39m = \u001b[32m\"VECTUS\"\u001b[39m"
      ]
     },
     "execution_count": 8,
     "metadata": {},
     "output_type": "execute_result"
    }
   ],
   "source": [
    "upperName(new Dog(\"rover\"))\n",
    "upperName(new Person(\"Bob\", 34))\n",
    "upperName(new Snake(\"Vectus\"))"
   ]
  },
  {
   "cell_type": "markdown",
   "metadata": {},
   "source": [
    "A <: B  --> Upper Bound --> A must be a subtype of B   \n",
    "A >: B  --> Lower Bound --> A must be a supertype of B   \n",
    "a <: Upper >: Lower --> Lower and upper bounds used together --> The type A has both an upper and lower bound   "
   ]
  },
  {
   "cell_type": "code",
   "execution_count": 10,
   "metadata": {},
   "outputs": [
    {
     "name": "stderr",
     "output_type": "stream",
     "text": [
      "cmd10.sc:2: object random is not a member of package ammonite.util\n",
      "    val randomNum = util.random.nextInt(seq.length)\n",
      "                         ^Compilation Failed"
     ]
    },
    {
     "ename": "",
     "evalue": "",
     "output_type": "error",
     "traceback": [
      "Compilation Failed"
     ]
    }
   ],
   "source": [
    "def randomElement[A](seq: Seq[A]): A = {\n",
    "    val randomNum = scala.util.random.nextInt(seq.length)\n",
    "    seq(randomNum)\n",
    "}"
   ]
  },
  {
   "cell_type": "code",
   "execution_count": null,
   "metadata": {},
   "outputs": [],
   "source": []
  },
  {
   "cell_type": "code",
   "execution_count": null,
   "metadata": {},
   "outputs": [],
   "source": []
  }
 ],
 "metadata": {
  "kernelspec": {
   "display_name": "Scala",
   "language": "scala",
   "name": "scala"
  },
  "language_info": {
   "codemirror_mode": "text/x-scala",
   "file_extension": ".sc",
   "mimetype": "text/x-scala",
   "name": "scala",
   "nbconvert_exporter": "script",
   "version": "2.13.10"
  },
  "orig_nbformat": 4
 },
 "nbformat": 4,
 "nbformat_minor": 2
}
