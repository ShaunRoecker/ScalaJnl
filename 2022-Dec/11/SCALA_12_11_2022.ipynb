{
 "cells": [
  {
   "cell_type": "markdown",
   "metadata": {},
   "source": [
    "## ScalaNotes December 11, 2022"
   ]
  },
  {
   "cell_type": "code",
   "execution_count": 4,
   "metadata": {},
   "outputs": [
    {
     "data": {
      "text/plain": [
       "defined \u001b[32mfunction\u001b[39m \u001b[36mmax\u001b[39m\n",
       "\u001b[36mbigger\u001b[39m: \u001b[32mInt\u001b[39m = \u001b[32m6\u001b[39m"
      ]
     },
     "execution_count": 4,
     "metadata": {},
     "output_type": "execute_result"
    }
   ],
   "source": [
    "def max(x: Int, y: Int): Int = {\n",
    "    if (x > y) {\n",
    "        x\n",
    "    } else {\n",
    "        y\n",
    "    }\n",
    "}\n",
    "val bigger = max(5, 6)\n",
    "\n",
    "// def max(x: Int, y: Int): Int = \n",
    "//     if x > y then x \n",
    "//     else y\n"
   ]
  },
  {
   "cell_type": "code",
   "execution_count": 5,
   "metadata": {},
   "outputs": [
    {
     "data": {
      "text/plain": [
       "defined \u001b[32mfunction\u001b[39m \u001b[36mgreet\u001b[39m"
      ]
     },
     "execution_count": 5,
     "metadata": {},
     "output_type": "execute_result"
    }
   ],
   "source": [
    "def greet() = println(\"Hello World!\")"
   ]
  },
  {
   "cell_type": "code",
   "execution_count": 6,
   "metadata": {},
   "outputs": [
    {
     "data": {
      "text/plain": [
       "defined \u001b[32mfunction\u001b[39m \u001b[36mm\u001b[39m"
      ]
     },
     "execution_count": 6,
     "metadata": {},
     "output_type": "execute_result"
    }
   ],
   "source": [
    "@main def m() = println(\"Hello World!\")"
   ]
  },
  {
   "cell_type": "code",
   "execution_count": 7,
   "metadata": {},
   "outputs": [
    {
     "name": "stdout",
     "output_type": "stream",
     "text": [
      "Hello World!\n"
     ]
    }
   ],
   "source": [
    "m()"
   ]
  },
  {
   "cell_type": "code",
   "execution_count": 8,
   "metadata": {},
   "outputs": [
    {
     "data": {
      "text/plain": [
       "defined \u001b[32mfunction\u001b[39m \u001b[36mmain\u001b[39m"
      ]
     },
     "execution_count": 8,
     "metadata": {},
     "output_type": "execute_result"
    }
   ],
   "source": [
    "@main\n",
    "def main() = {\n",
    "    println(\"Main Method\")\n",
    "}"
   ]
  },
  {
   "cell_type": "markdown",
   "metadata": {},
   "source": [
    "#### Function Literals"
   ]
  },
  {
   "cell_type": "code",
   "execution_count": 9,
   "metadata": {},
   "outputs": [
    {
     "data": {
      "text/plain": [
       "\u001b[36mres8\u001b[39m: (\u001b[32mInt\u001b[39m, \u001b[32mInt\u001b[39m) => \u001b[32mInt\u001b[39m = ammonite.$sess.cmd8$Helper$$Lambda$1915/0x00000008017436e0@50a2ab00"
      ]
     },
     "execution_count": 9,
     "metadata": {},
     "output_type": "execute_result"
    }
   ],
   "source": [
    "(x: Int, y: Int) => x + y"
   ]
  },
  {
   "cell_type": "code",
   "execution_count": 10,
   "metadata": {},
   "outputs": [
    {
     "data": {
      "text/plain": [
       "\u001b[36madd\u001b[39m: (\u001b[32mInt\u001b[39m, \u001b[32mInt\u001b[39m) => \u001b[32mInt\u001b[39m = ammonite.$sess.cmd9$Helper$$Lambda$1922/0x00000008017505e0@302dbf1b\n",
       "\u001b[36mres9_1\u001b[39m: \u001b[32mInt\u001b[39m = \u001b[32m4\u001b[39m"
      ]
     },
     "execution_count": 10,
     "metadata": {},
     "output_type": "execute_result"
    }
   ],
   "source": [
    "val add = (x: Int, y: Int) => x + y\n",
    "add(2, 2)"
   ]
  },
  {
   "cell_type": "code",
   "execution_count": 12,
   "metadata": {},
   "outputs": [
    {
     "name": "stdout",
     "output_type": "stream",
     "text": [
      "Hello\n",
      "World\n"
     ]
    },
    {
     "data": {
      "text/plain": [
       "defined \u001b[32mfunction\u001b[39m \u001b[36mm\u001b[39m"
      ]
     },
     "execution_count": 12,
     "metadata": {},
     "output_type": "execute_result"
    }
   ],
   "source": [
    "def m(args: String*) = {\n",
    "    for{\n",
    "        arg <- args\n",
    "    } {\n",
    "        println(arg)\n",
    "    }\n",
    "}\n",
    "       \n",
    "m(\"Hello\", \"World\")\n",
    "\n",
    "// Scala3\n",
    "// def m(args: String*) = \n",
    "//     for arg <- args do\n",
    "//         println(arg)\n"
   ]
  },
  {
   "cell_type": "code",
   "execution_count": 13,
   "metadata": {},
   "outputs": [
    {
     "data": {
      "text/plain": [
       "\u001b[36mbig\u001b[39m: \u001b[32mjava\u001b[39m.\u001b[32mmath\u001b[39m.\u001b[32mBigInteger\u001b[39m = 12345"
      ]
     },
     "execution_count": 13,
     "metadata": {},
     "output_type": "execute_result"
    }
   ],
   "source": [
    "val big = new java.math.BigInteger(\"12345\")"
   ]
  },
  {
   "cell_type": "code",
   "execution_count": 26,
   "metadata": {},
   "outputs": [
    {
     "name": "stdout",
     "output_type": "stream",
     "text": [
      "Hello,World!\n",
      "Hola,World!"
     ]
    },
    {
     "data": {
      "text/plain": [
       "\u001b[36mgreetingString\u001b[39m: \u001b[32mArray\u001b[39m[\u001b[32mString\u001b[39m] = \u001b[33mArray\u001b[39m(\u001b[32m\"Hola\"\u001b[39m, \u001b[32m\",\"\u001b[39m, \u001b[32m\"World!\"\u001b[39m)"
      ]
     },
     "execution_count": 26,
     "metadata": {},
     "output_type": "execute_result"
    }
   ],
   "source": [
    "val greetingString = new Array[String](3)\n",
    "greetingString(0) = \"Hello\"\n",
    "greetingString(1) = \",\"\n",
    "greetingString(2) = \"World!\"\n",
    "\n",
    "for {\n",
    "    i <- 0 to 2\n",
    "}{\n",
    "    print(greetingString(i))\n",
    "}\n",
    "println()\n",
    "greetingString.update(0, \"Hola\")\n",
    "\n",
    "for {\n",
    "    i <- 0 to 2\n",
    "}{\n",
    "    print(greetingString(i))\n",
    "}\n",
    "\n",
    "// for i <- 0 to 2 do print(greetingString(i))"
   ]
  },
  {
   "cell_type": "code",
   "execution_count": 18,
   "metadata": {},
   "outputs": [
    {
     "name": "stdout",
     "output_type": "stream",
     "text": [
      "10"
     ]
    }
   ],
   "source": [
    "Console print 10"
   ]
  },
  {
   "cell_type": "code",
   "execution_count": 19,
   "metadata": {},
   "outputs": [
    {
     "data": {
      "text/plain": [
       "\u001b[36mres18_0\u001b[39m: \u001b[32mInt\u001b[39m = \u001b[32m3\u001b[39m\n",
       "\u001b[36mres18_1\u001b[39m: \u001b[32mInt\u001b[39m = \u001b[32m3\u001b[39m"
      ]
     },
     "execution_count": 19,
     "metadata": {},
     "output_type": "execute_result"
    }
   ],
   "source": [
    "// All operations are method calls in Scala\n",
    "1 + 2\n",
    "1.+(2)"
   ]
  },
  {
   "cell_type": "code",
   "execution_count": 21,
   "metadata": {},
   "outputs": [
    {
     "name": "stdout",
     "output_type": "stream",
     "text": [
      "hello\n",
      "hello\n"
     ]
    },
    {
     "data": {
      "text/plain": [
       "defined \u001b[32mclass\u001b[39m \u001b[36mPerson\u001b[39m\n",
       "\u001b[36mperson\u001b[39m: \u001b[32mPerson\u001b[39m = ammonite.$sess.cmd20$Helper$Person@77d73bf6"
      ]
     },
     "execution_count": 21,
     "metadata": {},
     "output_type": "execute_result"
    }
   ],
   "source": [
    "class Person {\n",
    "    def apply(str: String): Unit = println(str)\n",
    "}\n",
    "val person = new Person\n",
    "\n",
    "person(\"hello\")\n",
    "person.apply(\"hello\")"
   ]
  },
  {
   "cell_type": "code",
   "execution_count": 27,
   "metadata": {},
   "outputs": [
    {
     "data": {
      "text/plain": [
       "\u001b[36mgreetingString\u001b[39m: \u001b[32mArray\u001b[39m[\u001b[32mString\u001b[39m] = \u001b[33mArray\u001b[39m(\u001b[32m\"Hello\"\u001b[39m, \u001b[32m\",\"\u001b[39m, \u001b[32m\"World!\"\u001b[39m)\n",
       "\u001b[36mres26_4\u001b[39m: \u001b[32mString\u001b[39m = \u001b[32m\"Hello\"\u001b[39m"
      ]
     },
     "execution_count": 27,
     "metadata": {},
     "output_type": "execute_result"
    }
   ],
   "source": [
    "val greetingString = new Array[String](3)\n",
    "greetingString(0) = \"Hello\"\n",
    "greetingString(1) = \",\"\n",
    "greetingString(2) = \"World!\"\n",
    "\n",
    "greetingString.apply(0)"
   ]
  },
  {
   "cell_type": "code",
   "execution_count": 28,
   "metadata": {},
   "outputs": [
    {
     "data": {
      "text/plain": [
       "\u001b[36moneTwoThree\u001b[39m: \u001b[32mList\u001b[39m[\u001b[32mInt\u001b[39m] = \u001b[33mList\u001b[39m(\u001b[32m1\u001b[39m, \u001b[32m2\u001b[39m, \u001b[32m3\u001b[39m)"
      ]
     },
     "execution_count": 28,
     "metadata": {},
     "output_type": "execute_result"
    }
   ],
   "source": [
    "val oneTwoThree = List(1, 2, 3)"
   ]
  },
  {
   "cell_type": "code",
   "execution_count": 29,
   "metadata": {},
   "outputs": [
    {
     "data": {
      "text/plain": [
       "\u001b[36moneTwo\u001b[39m: \u001b[32mList\u001b[39m[\u001b[32mInt\u001b[39m] = \u001b[33mList\u001b[39m(\u001b[32m1\u001b[39m, \u001b[32m2\u001b[39m)\n",
       "\u001b[36mthreeFour\u001b[39m: \u001b[32mList\u001b[39m[\u001b[32mInt\u001b[39m] = \u001b[33mList\u001b[39m(\u001b[32m3\u001b[39m, \u001b[32m4\u001b[39m)\n",
       "\u001b[36moneTwoThreeFour\u001b[39m: \u001b[32mList\u001b[39m[\u001b[32mInt\u001b[39m] = \u001b[33mList\u001b[39m(\u001b[32m1\u001b[39m, \u001b[32m2\u001b[39m, \u001b[32m3\u001b[39m, \u001b[32m4\u001b[39m)"
      ]
     },
     "execution_count": 29,
     "metadata": {},
     "output_type": "execute_result"
    }
   ],
   "source": [
    "val oneTwo = List(1, 2)\n",
    "val threeFour = List(3, 4)\n",
    "val oneTwoThreeFour = oneTwo ::: threeFour"
   ]
  },
  {
   "cell_type": "code",
   "execution_count": 30,
   "metadata": {},
   "outputs": [
    {
     "data": {
      "text/plain": [
       "\u001b[36mtwoThree\u001b[39m: \u001b[32mList\u001b[39m[\u001b[32mInt\u001b[39m] = \u001b[33mList\u001b[39m(\u001b[32m2\u001b[39m, \u001b[32m3\u001b[39m)\n",
       "\u001b[36moneTwoThree\u001b[39m: \u001b[32mList\u001b[39m[\u001b[32mInt\u001b[39m] = \u001b[33mList\u001b[39m(\u001b[32m1\u001b[39m, \u001b[32m2\u001b[39m, \u001b[32m3\u001b[39m)"
      ]
     },
     "execution_count": 30,
     "metadata": {},
     "output_type": "execute_result"
    }
   ],
   "source": [
    "val twoThree = List(2, 3)\n",
    "val oneTwoThree = 1 :: twoThree"
   ]
  },
  {
   "cell_type": "code",
   "execution_count": 32,
   "metadata": {},
   "outputs": [
    {
     "data": {
      "text/plain": [
       "\u001b[36mnewList\u001b[39m: \u001b[32mList\u001b[39m[\u001b[32mInt\u001b[39m] = \u001b[33mList\u001b[39m(\u001b[32m2\u001b[39m)"
      ]
     },
     "execution_count": 32,
     "metadata": {},
     "output_type": "execute_result"
    }
   ],
   "source": [
    "val newList = List().::(2)"
   ]
  },
  {
   "cell_type": "code",
   "execution_count": 33,
   "metadata": {},
   "outputs": [
    {
     "data": {
      "text/plain": [
       "\u001b[36mone23\u001b[39m: \u001b[32mList\u001b[39m[\u001b[32mInt\u001b[39m] = \u001b[33mList\u001b[39m(\u001b[32m1\u001b[39m, \u001b[32m2\u001b[39m, \u001b[32m3\u001b[39m)"
      ]
     },
     "execution_count": 33,
     "metadata": {},
     "output_type": "execute_result"
    }
   ],
   "source": [
    "val one23 = 1 :: 2 :: 3 :: Nil"
   ]
  },
  {
   "cell_type": "code",
   "execution_count": 38,
   "metadata": {},
   "outputs": [
    {
     "data": {
      "text/plain": [
       "\u001b[36mmyList\u001b[39m: \u001b[32mList\u001b[39m[\u001b[32mInt\u001b[39m] = \u001b[33mList\u001b[39m(\u001b[32m1\u001b[39m)\n",
       "\u001b[36mprepended\u001b[39m: \u001b[32mList\u001b[39m[\u001b[32mInt\u001b[39m] = \u001b[33mList\u001b[39m(\u001b[32m1\u001b[39m, \u001b[32m2\u001b[39m)"
      ]
     },
     "execution_count": 38,
     "metadata": {},
     "output_type": "execute_result"
    }
   ],
   "source": [
    "val myList = List(1)\n",
    "val prepended = myList ::: List(2)\n"
   ]
  },
  {
   "cell_type": "markdown",
   "metadata": {},
   "source": [
    "#### Some List methods and usages"
   ]
  },
  {
   "cell_type": "code",
   "execution_count": 39,
   "metadata": {},
   "outputs": [
    {
     "data": {
      "text/plain": [
       "\u001b[36mlist\u001b[39m: \u001b[32mList\u001b[39m[\u001b[32mInt\u001b[39m] = \u001b[33mList\u001b[39m(\u001b[32m1\u001b[39m, \u001b[32m2\u001b[39m, \u001b[32m3\u001b[39m, \u001b[32m4\u001b[39m, \u001b[32m5\u001b[39m, \u001b[32m6\u001b[39m, \u001b[32m7\u001b[39m, \u001b[32m8\u001b[39m, \u001b[32m9\u001b[39m, \u001b[32m10\u001b[39m)"
      ]
     },
     "execution_count": 39,
     "metadata": {},
     "output_type": "execute_result"
    }
   ],
   "source": [
    "val list = List(1, 2, 3, 4, 5, 6, 7, 8, 9, 10)"
   ]
  },
  {
   "cell_type": "code",
   "execution_count": 41,
   "metadata": {},
   "outputs": [
    {
     "data": {
      "text/plain": [
       "\u001b[36mres40\u001b[39m: \u001b[32mList\u001b[39m[\u001b[32mInt\u001b[39m] = \u001b[33mList\u001b[39m()"
      ]
     },
     "execution_count": 41,
     "metadata": {},
     "output_type": "execute_result"
    }
   ],
   "source": [
    "list.empty"
   ]
  },
  {
   "cell_type": "code",
   "execution_count": 43,
   "metadata": {},
   "outputs": [
    {
     "data": {
      "text/plain": [
       "\u001b[36mres42\u001b[39m: \u001b[32mList\u001b[39m[\u001b[32mString\u001b[39m] = \u001b[33mList\u001b[39m(\u001b[32m\"Cool\"\u001b[39m, \u001b[32m\"tools\"\u001b[39m, \u001b[32m\"rule\"\u001b[39m)"
      ]
     },
     "execution_count": 43,
     "metadata": {},
     "output_type": "execute_result"
    }
   ],
   "source": [
    "List(\"Cool\",\"tools\",\"rule\")"
   ]
  },
  {
   "cell_type": "code",
   "execution_count": 44,
   "metadata": {},
   "outputs": [
    {
     "data": {
      "text/plain": [
       "\u001b[36mthrill\u001b[39m: \u001b[32mList\u001b[39m[\u001b[32mString\u001b[39m] = \u001b[33mList\u001b[39m(\u001b[32m\"will\"\u001b[39m, \u001b[32m\"fill\"\u001b[39m, \u001b[32m\"until\"\u001b[39m)"
      ]
     },
     "execution_count": 44,
     "metadata": {},
     "output_type": "execute_result"
    }
   ],
   "source": [
    "val thrill = \"will\" :: \"fill\" :: \"until\" :: Nil"
   ]
  },
  {
   "cell_type": "code",
   "execution_count": 46,
   "metadata": {},
   "outputs": [
    {
     "data": {
      "text/plain": [
       "\u001b[36mres45\u001b[39m: \u001b[32mList\u001b[39m[\u001b[32mString\u001b[39m] = \u001b[33mList\u001b[39m(\u001b[32m\"a\"\u001b[39m, \u001b[32m\"b\"\u001b[39m, \u001b[32m\"c\"\u001b[39m, \u001b[32m\"d\"\u001b[39m)"
      ]
     },
     "execution_count": 46,
     "metadata": {},
     "output_type": "execute_result"
    }
   ],
   "source": [
    "List(\"a\", \"b\") ::: List(\"c\", \"d\")"
   ]
  },
  {
   "cell_type": "code",
   "execution_count": 47,
   "metadata": {},
   "outputs": [
    {
     "data": {
      "text/plain": [
       "\u001b[36mres46\u001b[39m: \u001b[32mString\u001b[39m = \u001b[32m\"until\"\u001b[39m"
      ]
     },
     "execution_count": 47,
     "metadata": {},
     "output_type": "execute_result"
    }
   ],
   "source": [
    "thrill(2)"
   ]
  },
  {
   "cell_type": "code",
   "execution_count": 49,
   "metadata": {},
   "outputs": [
    {
     "data": {
      "text/plain": [
       "\u001b[36mres48\u001b[39m: \u001b[32mInt\u001b[39m = \u001b[32m2\u001b[39m"
      ]
     },
     "execution_count": 49,
     "metadata": {},
     "output_type": "execute_result"
    }
   ],
   "source": [
    "thrill.count(s => s.length == 4)  //counts the number of string elements in thrill that have length 4"
   ]
  },
  {
   "cell_type": "code",
   "execution_count": 51,
   "metadata": {},
   "outputs": [
    {
     "data": {
      "text/plain": [
       "\u001b[36mres50\u001b[39m: \u001b[32mInt\u001b[39m = \u001b[32m1\u001b[39m"
      ]
     },
     "execution_count": 51,
     "metadata": {},
     "output_type": "execute_result"
    }
   ],
   "source": [
    "thrill.count(_ == \"will\")"
   ]
  },
  {
   "cell_type": "code",
   "execution_count": 52,
   "metadata": {},
   "outputs": [
    {
     "data": {
      "text/plain": [
       "\u001b[36mres51\u001b[39m: \u001b[32mList\u001b[39m[\u001b[32mString\u001b[39m] = \u001b[33mList\u001b[39m(\u001b[32m\"until\"\u001b[39m)"
      ]
     },
     "execution_count": 52,
     "metadata": {},
     "output_type": "execute_result"
    }
   ],
   "source": [
    "thrill.drop(2)  //drops the left two elements"
   ]
  },
  {
   "cell_type": "code",
   "execution_count": 53,
   "metadata": {},
   "outputs": [
    {
     "data": {
      "text/plain": [
       "\u001b[36mres52\u001b[39m: \u001b[32mList\u001b[39m[\u001b[32mString\u001b[39m] = \u001b[33mList\u001b[39m(\u001b[32m\"will\"\u001b[39m)"
      ]
     },
     "execution_count": 53,
     "metadata": {},
     "output_type": "execute_result"
    }
   ],
   "source": [
    "thrill.dropRight(2)"
   ]
  },
  {
   "cell_type": "code",
   "execution_count": 55,
   "metadata": {},
   "outputs": [
    {
     "data": {
      "text/plain": [
       "\u001b[36mres54_0\u001b[39m: \u001b[32mBoolean\u001b[39m = \u001b[32mtrue\u001b[39m\n",
       "\u001b[36mres54_1\u001b[39m: \u001b[32mBoolean\u001b[39m = \u001b[32mtrue\u001b[39m"
      ]
     },
     "execution_count": 55,
     "metadata": {},
     "output_type": "execute_result"
    }
   ],
   "source": [
    "thrill.exists(s => s == \"until\")\n",
    "thrill.exists(_ == \"until\")\n"
   ]
  },
  {
   "cell_type": "code",
   "execution_count": 56,
   "metadata": {},
   "outputs": [
    {
     "data": {
      "text/plain": [
       "\u001b[36mres55\u001b[39m: \u001b[32mList\u001b[39m[\u001b[32mString\u001b[39m] = \u001b[33mList\u001b[39m(\u001b[32m\"will\"\u001b[39m, \u001b[32m\"fill\"\u001b[39m)"
      ]
     },
     "execution_count": 56,
     "metadata": {},
     "output_type": "execute_result"
    }
   ],
   "source": [
    "thrill.filter(s => s.length == 4)"
   ]
  },
  {
   "cell_type": "code",
   "execution_count": 58,
   "metadata": {},
   "outputs": [
    {
     "data": {
      "text/plain": [
       "\u001b[36mres57_0\u001b[39m: \u001b[32mBoolean\u001b[39m = \u001b[32mtrue\u001b[39m\n",
       "\u001b[36mres57_1\u001b[39m: \u001b[32mBoolean\u001b[39m = \u001b[32mfalse\u001b[39m"
      ]
     },
     "execution_count": 58,
     "metadata": {},
     "output_type": "execute_result"
    }
   ],
   "source": [
    "thrill forall(s => s.endsWith(\"l\"))\n",
    "\n",
    "thrill.forall(s => s.endsWith(\"a\"))\n"
   ]
  },
  {
   "cell_type": "code",
   "execution_count": 61,
   "metadata": {},
   "outputs": [
    {
     "name": "stdout",
     "output_type": "stream",
     "text": [
      "willfilluntil\n",
      "willfilluntil"
     ]
    }
   ],
   "source": [
    "thrill.foreach(s => print(s))\n",
    "println()\n",
    "thrill.foreach(print)\n"
   ]
  },
  {
   "cell_type": "code",
   "execution_count": 67,
   "metadata": {},
   "outputs": [
    {
     "data": {
      "text/plain": [
       "\u001b[36mres66_0\u001b[39m: \u001b[32mString\u001b[39m = \u001b[32m\"will\"\u001b[39m\n",
       "\u001b[36memptyList\u001b[39m: \u001b[32mList\u001b[39m[\u001b[32mString\u001b[39m] = \u001b[33mList\u001b[39m()\n",
       "\u001b[32mimport \u001b[39m\u001b[36mscala.util.{Try, Success, Failure}\n",
       "\u001b[39m\n",
       "\u001b[36mres66_3\u001b[39m: \u001b[32mTry\u001b[39m[\u001b[32mString\u001b[39m] = \u001b[33mFailure\u001b[39m(\n",
       "  exception = java.util.NoSuchElementException: head of empty list\n",
       ")\n",
       "\u001b[36mres66_4\u001b[39m: \u001b[32mTry\u001b[39m[\u001b[32mString\u001b[39m] = \u001b[33mSuccess\u001b[39m(value = \u001b[32m\"will\"\u001b[39m)"
      ]
     },
     "execution_count": 67,
     "metadata": {},
     "output_type": "execute_result"
    }
   ],
   "source": [
    "thrill.head  //will throw exception if List is empty\n",
    "\n",
    "val emptyList = thrill.empty\n",
    "\n",
    "import scala.util.{Try, Success, Failure}\n",
    "Try(emptyList.head)\n",
    "Try(thrill.head)\n"
   ]
  },
  {
   "cell_type": "code",
   "execution_count": 74,
   "metadata": {},
   "outputs": [
    {
     "data": {
      "text/plain": [
       "\u001b[36mres73_0\u001b[39m: \u001b[32mList\u001b[39m[\u001b[32mString\u001b[39m] = \u001b[33mList\u001b[39m(\u001b[32m\"will\"\u001b[39m, \u001b[32m\"fill\"\u001b[39m)\n",
       "\u001b[36mres73_1\u001b[39m: \u001b[32mTry\u001b[39m[\u001b[32mList\u001b[39m[\u001b[32mString\u001b[39m]] = \u001b[33mFailure\u001b[39m(\n",
       "  exception = java.lang.UnsupportedOperationException: init of empty list\n",
       ")"
      ]
     },
     "execution_count": 74,
     "metadata": {},
     "output_type": "execute_result"
    }
   ],
   "source": [
    "thrill.init  //returns a list of all but the last element in the thrill list\n",
    "Try(emptyList.init)"
   ]
  },
  {
   "cell_type": "code",
   "execution_count": 70,
   "metadata": {},
   "outputs": [
    {
     "data": {
      "text/plain": [
       "\u001b[36mres69_0\u001b[39m: \u001b[32mBoolean\u001b[39m = \u001b[32mfalse\u001b[39m\n",
       "\u001b[36mres69_1\u001b[39m: \u001b[32mBoolean\u001b[39m = \u001b[32mtrue\u001b[39m"
      ]
     },
     "execution_count": 70,
     "metadata": {},
     "output_type": "execute_result"
    }
   ],
   "source": [
    "thrill.isEmpty\n",
    "emptyList.isEmpty"
   ]
  },
  {
   "cell_type": "code",
   "execution_count": 72,
   "metadata": {},
   "outputs": [
    {
     "data": {
      "text/plain": [
       "\u001b[36mres71_0\u001b[39m: \u001b[32mString\u001b[39m = \u001b[32m\"until\"\u001b[39m\n",
       "\u001b[36mres71_1\u001b[39m: \u001b[32mTry\u001b[39m[\u001b[32mString\u001b[39m] = \u001b[33mFailure\u001b[39m(\n",
       "  exception = java.util.NoSuchElementException: last of empty list\n",
       ")"
      ]
     },
     "execution_count": 72,
     "metadata": {},
     "output_type": "execute_result"
    }
   ],
   "source": [
    "thrill.last\n",
    "Try(emptyList.last)"
   ]
  },
  {
   "cell_type": "code",
   "execution_count": 76,
   "metadata": {},
   "outputs": [
    {
     "data": {
      "text/plain": [
       "\u001b[36mres75_0\u001b[39m: \u001b[32mInt\u001b[39m = \u001b[32m3\u001b[39m\n",
       "\u001b[36mres75_1\u001b[39m: \u001b[32mInt\u001b[39m = \u001b[32m0\u001b[39m"
      ]
     },
     "execution_count": 76,
     "metadata": {},
     "output_type": "execute_result"
    }
   ],
   "source": [
    "thrill.length\n",
    "emptyList.length"
   ]
  },
  {
   "cell_type": "code",
   "execution_count": 79,
   "metadata": {},
   "outputs": [
    {
     "data": {
      "text/plain": [
       "\u001b[36mres78_0\u001b[39m: \u001b[32mList\u001b[39m[\u001b[32mString\u001b[39m] = \u001b[33mList\u001b[39m(\u001b[32m\"willy\"\u001b[39m, \u001b[32m\"filly\"\u001b[39m, \u001b[32m\"untily\"\u001b[39m)\n",
       "\u001b[36mres78_1\u001b[39m: \u001b[32mList\u001b[39m[\u001b[32mString\u001b[39m] = \u001b[33mList\u001b[39m(\u001b[32m\"willy\"\u001b[39m, \u001b[32m\"filly\"\u001b[39m, \u001b[32m\"untily\"\u001b[39m)"
      ]
     },
     "execution_count": 79,
     "metadata": {},
     "output_type": "execute_result"
    }
   ],
   "source": [
    "thrill.map(s => s + \"y\")\n",
    "thrill.map(_ + \"y\")"
   ]
  },
  {
   "cell_type": "code",
   "execution_count": 80,
   "metadata": {},
   "outputs": [
    {
     "data": {
      "text/plain": [
       "\u001b[36mres79\u001b[39m: \u001b[32mString\u001b[39m = \u001b[32m\"will, fill, until\"\u001b[39m"
      ]
     },
     "execution_count": 80,
     "metadata": {},
     "output_type": "execute_result"
    }
   ],
   "source": [
    "thrill.mkString(\", \")"
   ]
  },
  {
   "cell_type": "code",
   "execution_count": 84,
   "metadata": {},
   "outputs": [
    {
     "data": {
      "text/plain": [
       "\u001b[36mres83_0\u001b[39m: \u001b[32mList\u001b[39m[\u001b[32mString\u001b[39m] = \u001b[33mList\u001b[39m(\u001b[32m\"until\"\u001b[39m)\n",
       "\u001b[36mres83_1\u001b[39m: \u001b[32mList\u001b[39m[\u001b[32mString\u001b[39m] = \u001b[33mList\u001b[39m(\u001b[32m\"until\"\u001b[39m)"
      ]
     },
     "execution_count": 84,
     "metadata": {},
     "output_type": "execute_result"
    }
   ],
   "source": [
    "thrill.filterNot(s => s.length == 4)\n",
    "thrill.filterNot(_.length == 4)\n"
   ]
  },
  {
   "cell_type": "code",
   "execution_count": 86,
   "metadata": {},
   "outputs": [
    {
     "data": {
      "text/plain": [
       "\u001b[36mreversed\u001b[39m: \u001b[32mList\u001b[39m[\u001b[32mInt\u001b[39m] = \u001b[33mList\u001b[39m(\u001b[32m3\u001b[39m, \u001b[32m2\u001b[39m, \u001b[32m1\u001b[39m)"
      ]
     },
     "execution_count": 86,
     "metadata": {},
     "output_type": "execute_result"
    }
   ],
   "source": [
    "val reversed = List(1, 2, 3).reverse"
   ]
  },
  {
   "cell_type": "code",
   "execution_count": 87,
   "metadata": {},
   "outputs": [
    {
     "data": {
      "text/plain": [
       "\u001b[36mres86\u001b[39m: \u001b[32mList\u001b[39m[\u001b[32mString\u001b[39m] = \u001b[33mList\u001b[39m(\u001b[32m\"fill\"\u001b[39m, \u001b[32m\"until\"\u001b[39m, \u001b[32m\"will\"\u001b[39m)"
      ]
     },
     "execution_count": 87,
     "metadata": {},
     "output_type": "execute_result"
    }
   ],
   "source": [
    "thrill.sortWith((s, t) => {\n",
    "    s.charAt(0).toLower < t.charAt(0).toLower\n",
    "})"
   ]
  },
  {
   "cell_type": "code",
   "execution_count": 89,
   "metadata": {},
   "outputs": [
    {
     "data": {
      "text/plain": [
       "\u001b[36mres88\u001b[39m: \u001b[32mList\u001b[39m[\u001b[32mString\u001b[39m] = \u001b[33mList\u001b[39m(\u001b[32m\"fill\"\u001b[39m, \u001b[32m\"until\"\u001b[39m, \u001b[32m\"will\"\u001b[39m)"
      ]
     },
     "execution_count": 89,
     "metadata": {},
     "output_type": "execute_result"
    }
   ],
   "source": [
    "thrill.sorted  // works because of implicit ordering for strings- can add ordering to custom types"
   ]
  },
  {
   "cell_type": "code",
   "execution_count": 93,
   "metadata": {},
   "outputs": [
    {
     "data": {
      "text/plain": [
       "\u001b[36mres92_0\u001b[39m: \u001b[32mList\u001b[39m[\u001b[32mString\u001b[39m] = \u001b[33mList\u001b[39m(\u001b[32m\"fill\"\u001b[39m, \u001b[32m\"until\"\u001b[39m)\n",
       "\u001b[36mres92_1\u001b[39m: \u001b[32mTry\u001b[39m[\u001b[32mList\u001b[39m[\u001b[32mString\u001b[39m]] = \u001b[33mFailure\u001b[39m(\n",
       "  exception = java.lang.UnsupportedOperationException: tail of empty list\n",
       ")"
      ]
     },
     "execution_count": 93,
     "metadata": {},
     "output_type": "execute_result"
    }
   ],
   "source": [
    "thrill.tail  //returns the thrill list minus its first element\n",
    "Try(emptyList.tail)"
   ]
  },
  {
   "cell_type": "markdown",
   "metadata": {},
   "source": [
    "#### Tuples"
   ]
  },
  {
   "cell_type": "code",
   "execution_count": 101,
   "metadata": {},
   "outputs": [
    {
     "data": {
      "text/plain": [
       "\u001b[36mtuple\u001b[39m: (\u001b[32mInt\u001b[39m, \u001b[32mString\u001b[39m) = (\u001b[32m99\u001b[39m, \u001b[32m\"luftballons\"\u001b[39m)\n",
       "\u001b[36mnum\u001b[39m: \u001b[32mInt\u001b[39m = \u001b[32m99\u001b[39m\n",
       "\u001b[36mwhat\u001b[39m: \u001b[32mString\u001b[39m = \u001b[32m\"luftballons\"\u001b[39m"
      ]
     },
     "execution_count": 101,
     "metadata": {},
     "output_type": "execute_result"
    }
   ],
   "source": [
    "val tuple = (99, \"luftballons\")\n",
    "val num = tuple._1\n",
    "val what = tuple._2\n",
    "\n",
    "// Scala3 or\n",
    "// val tuple = (99, \"luftballons\")\n",
    "// val num = tuple(0)\n",
    "// val what = tuple(1)\n",
    " "
   ]
  },
  {
   "cell_type": "markdown",
   "metadata": {},
   "source": [
    "#### Sets and Maps"
   ]
  },
  {
   "cell_type": "code",
   "execution_count": 105,
   "metadata": {},
   "outputs": [
    {
     "data": {
      "text/html": [
       "<div class=\"jp-RenderedText\">\n",
       "<pre><code><span style=\"color: rgb(0, 187, 187)\"><span class=\"ansi-cyan-fg\">jetSet</span></span>: <span style=\"color: rgb(0, 187, 0)\"><span class=\"ansi-green-fg\">Set</span></span>[<span style=\"color: rgb(0, 187, 0)\"><span class=\"ansi-green-fg\">String</span></span>] = <span style=\"color: yellow\"><span class=\"ansi-yellow-fg\">Set</span></span>(<span style=\"color: rgb(0, 187, 0)\"><span class=\"ansi-green-fg\">&quot;Boeing&quot;</span></span>, <span style=\"color: rgb(0, 187, 0)\"><span class=\"ansi-green-fg\">&quot;Airbus&quot;</span></span>, <span style=\"color: rgb(0, 187, 0)\"><span class=\"ansi-green-fg\">&quot;Lear&quot;</span></span>)\n",
       "<span style=\"color: rgb(0, 187, 187)\"><span class=\"ansi-cyan-fg\">query</span></span>: <span style=\"color: rgb(0, 187, 0)\"><span class=\"ansi-green-fg\">Boolean</span></span> = <span style=\"color: rgb(0, 187, 0)\"><span class=\"ansi-green-fg\">false</span></span></code></pre>\n",
       "</div>"
      ],
      "text/plain": [
       "\u001b[36mjetSet\u001b[39m: \u001b[32mSet\u001b[39m[\u001b[32mString\u001b[39m] = \u001b[33mSet\u001b[39m(\u001b[32m\"Boeing\"\u001b[39m, \u001b[32m\"Airbus\"\u001b[39m, \u001b[32m\"Lear\"\u001b[39m)\n",
       "\u001b[36mquery\u001b[39m: \u001b[32mBoolean\u001b[39m = \u001b[32mfalse\u001b[39m"
      ]
     },
     "metadata": {},
     "output_type": "display_data"
    }
   ],
   "source": [
    "var jetSet = Set(\"Boeing\", \"Airbus\")\n",
    "jetSet += \"Lear\"\n",
    "val query = jetSet.contains(\"Cessna\")"
   ]
  },
  {
   "cell_type": "code",
   "execution_count": 110,
   "metadata": {},
   "outputs": [
    {
     "data": {
      "text/plain": [
       "\u001b[32mimport \u001b[39m\u001b[36mscala.collection.mutable.{Set => MSet}\n",
       "\u001b[39m\n",
       "\u001b[36mmutableSet1\u001b[39m: \u001b[32mmutable\u001b[39m.\u001b[32mSet\u001b[39m[\u001b[32mString\u001b[39m] = \u001b[33mHashSet\u001b[39m(\u001b[32m\"Spotlight\"\u001b[39m, \u001b[32m\"Parasite\"\u001b[39m, \u001b[32m\"Moonlight\"\u001b[39m)\n",
       "\u001b[36mres109_2\u001b[39m: \u001b[32mmutable\u001b[39m.\u001b[32mSet\u001b[39m[\u001b[32mString\u001b[39m] = \u001b[33mHashSet\u001b[39m(\u001b[32m\"Spotlight\"\u001b[39m, \u001b[32m\"Parasite\"\u001b[39m, \u001b[32m\"Moonlight\"\u001b[39m)\n",
       "\u001b[32mimport \u001b[39m\u001b[36mscala.collection.mutable\n",
       "\u001b[39m\n",
       "\u001b[36mmutableSet2\u001b[39m: \u001b[32mmutable\u001b[39m.\u001b[32mSet\u001b[39m[\u001b[32mString\u001b[39m] = \u001b[33mHashSet\u001b[39m(\u001b[32m\"Spotlight\"\u001b[39m, \u001b[32m\"Parasite\"\u001b[39m, \u001b[32m\"Moonlight\"\u001b[39m)\n",
       "\u001b[36mres109_5\u001b[39m: \u001b[32mmutable\u001b[39m.\u001b[32mSet\u001b[39m[\u001b[32mString\u001b[39m] = \u001b[33mHashSet\u001b[39m(\u001b[32m\"Spotlight\"\u001b[39m, \u001b[32m\"Parasite\"\u001b[39m, \u001b[32m\"Moonlight\"\u001b[39m)"
      ]
     },
     "execution_count": 110,
     "metadata": {},
     "output_type": "execute_result"
    }
   ],
   "source": [
    "// For mutable Sets\n",
    "import scala.collection.mutable.{Set => MSet}\n",
    "val mutableSet1 = MSet(\"Spotlight\", \"Moonlight\")\n",
    "mutableSet1 += \"Parasite\"\n",
    "// or\n",
    "import scala.collection.mutable\n",
    "val mutableSet2 = mutable.Set(\"Spotlight\", \"Moonlight\")\n",
    "mutableSet2 += \"Parasite\"\n",
    "\n"
   ]
  },
  {
   "cell_type": "code",
   "execution_count": 112,
   "metadata": {},
   "outputs": [
    {
     "data": {
      "text/plain": [
       "\u001b[32mimport \u001b[39m\u001b[36mscala.collection.mutable.{Map => MMap}\n",
       "\n",
       "\u001b[39m\n",
       "\u001b[36mtreasureMap\u001b[39m: \u001b[32mmutable\u001b[39m.\u001b[32mMap\u001b[39m[\u001b[32mInt\u001b[39m, \u001b[32mString\u001b[39m] = \u001b[33mHashMap\u001b[39m(\n",
       "  \u001b[32m1\u001b[39m -> \u001b[32m\"Go to Island\"\u001b[39m,\n",
       "  \u001b[32m2\u001b[39m -> \u001b[32m\"Find big X on ground.\"\u001b[39m,\n",
       "  \u001b[32m3\u001b[39m -> \u001b[32m\"Dig.\"\u001b[39m\n",
       ")\n",
       "\u001b[36mres111_2\u001b[39m: \u001b[32mmutable\u001b[39m.\u001b[32mMap\u001b[39m[\u001b[32mInt\u001b[39m, \u001b[32mString\u001b[39m] = \u001b[33mHashMap\u001b[39m(\n",
       "  \u001b[32m1\u001b[39m -> \u001b[32m\"Go to Island\"\u001b[39m,\n",
       "  \u001b[32m2\u001b[39m -> \u001b[32m\"Find big X on ground.\"\u001b[39m,\n",
       "  \u001b[32m3\u001b[39m -> \u001b[32m\"Dig.\"\u001b[39m\n",
       ")\n",
       "\u001b[36mres111_3\u001b[39m: \u001b[32mmutable\u001b[39m.\u001b[32mMap\u001b[39m[\u001b[32mInt\u001b[39m, \u001b[32mString\u001b[39m] = \u001b[33mHashMap\u001b[39m(\n",
       "  \u001b[32m1\u001b[39m -> \u001b[32m\"Go to Island\"\u001b[39m,\n",
       "  \u001b[32m2\u001b[39m -> \u001b[32m\"Find big X on ground.\"\u001b[39m,\n",
       "  \u001b[32m3\u001b[39m -> \u001b[32m\"Dig.\"\u001b[39m\n",
       ")\n",
       "\u001b[36mres111_4\u001b[39m: \u001b[32mmutable\u001b[39m.\u001b[32mMap\u001b[39m[\u001b[32mInt\u001b[39m, \u001b[32mString\u001b[39m] = \u001b[33mHashMap\u001b[39m(\n",
       "  \u001b[32m1\u001b[39m -> \u001b[32m\"Go to Island\"\u001b[39m,\n",
       "  \u001b[32m2\u001b[39m -> \u001b[32m\"Find big X on ground.\"\u001b[39m,\n",
       "  \u001b[32m3\u001b[39m -> \u001b[32m\"Dig.\"\u001b[39m\n",
       ")\n",
       "\u001b[36mstep\u001b[39m: \u001b[32mString\u001b[39m = \u001b[32m\"Find big X on ground.\"\u001b[39m"
      ]
     },
     "execution_count": 112,
     "metadata": {},
     "output_type": "execute_result"
    }
   ],
   "source": [
    "import scala.collection.mutable.{Map => MMap}\n",
    "\n",
    "val treasureMap = MMap.empty[Int, String]\n",
    "treasureMap += (1 -> \"Go to Island\")\n",
    "treasureMap += (2 -> \"Find big X on ground.\")\n",
    "treasureMap += (3 -> \"Dig.\")\n",
    "val step = treasureMap(2)"
   ]
  },
  {
   "cell_type": "code",
   "execution_count": 113,
   "metadata": {},
   "outputs": [
    {
     "data": {
      "text/plain": [
       "\u001b[36mromanNumeral\u001b[39m: \u001b[32mMap\u001b[39m[\u001b[32mInt\u001b[39m, \u001b[32mString\u001b[39m] = \u001b[33mHashMap\u001b[39m(\n",
       "  \u001b[32m5\u001b[39m -> \u001b[32m\"V\"\u001b[39m,\n",
       "  \u001b[32m1\u001b[39m -> \u001b[32m\"I\"\u001b[39m,\n",
       "  \u001b[32m2\u001b[39m -> \u001b[32m\"II\"\u001b[39m,\n",
       "  \u001b[32m3\u001b[39m -> \u001b[32m\"III\"\u001b[39m,\n",
       "  \u001b[32m4\u001b[39m -> \u001b[32m\"IV\"\u001b[39m\n",
       ")\n",
       "\u001b[36mfour\u001b[39m: \u001b[32mString\u001b[39m = \u001b[32m\"IV\"\u001b[39m"
      ]
     },
     "execution_count": 113,
     "metadata": {},
     "output_type": "execute_result"
    }
   ],
   "source": [
    "// Immutable Maps are default and don't require an import\n",
    "val romanNumeral = Map(\n",
    "    1 -> \"I\", 2 -> \"II\", 3 -> \"III\", 4 -> \"IV\", 5 -> \"V\"\n",
    ")\n",
    "val four = romanNumeral(4)"
   ]
  },
  {
   "cell_type": "code",
   "execution_count": 1,
   "metadata": {},
   "outputs": [
    {
     "data": {
      "text/plain": [
       "defined \u001b[32mfunction\u001b[39m \u001b[36mformatArgs\u001b[39m"
      ]
     },
     "execution_count": 1,
     "metadata": {},
     "output_type": "execute_result"
    }
   ],
   "source": [
    "def formatArgs(args: List[String]) = args.mkString(\"\\n\")"
   ]
  },
  {
   "cell_type": "code",
   "execution_count": 2,
   "metadata": {},
   "outputs": [
    {
     "data": {
      "text/plain": [
       "\u001b[36mres\u001b[39m: \u001b[32mString\u001b[39m = \u001b[32m\"\"\"zero\n",
       "one\n",
       "two\"\"\"\u001b[39m"
      ]
     },
     "execution_count": 2,
     "metadata": {},
     "output_type": "execute_result"
    }
   ],
   "source": [
    "// Testing formatArgs\n",
    "val res = formatArgs(List(\"zero\", \"one\", \"two\"))\n",
    "assert(res == \"zero\\none\\ntwo\")"
   ]
  },
  {
   "cell_type": "markdown",
   "metadata": {},
   "source": [
    "Transform with map and for-yield"
   ]
  },
  {
   "cell_type": "code",
   "execution_count": 3,
   "metadata": {},
   "outputs": [
    {
     "data": {
      "text/plain": [
       "\u001b[36madjectives\u001b[39m: \u001b[32mList\u001b[39m[\u001b[32mString\u001b[39m] = \u001b[33mList\u001b[39m(\u001b[32m\"One\"\u001b[39m, \u001b[32m\"Two\"\u001b[39m, \u001b[32m\"Red\"\u001b[39m, \u001b[32m\"Blue\"\u001b[39m)\n",
       "\u001b[36mnouns\u001b[39m: \u001b[32mList\u001b[39m[\u001b[32mString\u001b[39m] = \u001b[33mList\u001b[39m(\u001b[32m\"Onefish\"\u001b[39m, \u001b[32m\"Twofish\"\u001b[39m, \u001b[32m\"Redfish\"\u001b[39m, \u001b[32m\"Bluefish\"\u001b[39m)"
      ]
     },
     "execution_count": 3,
     "metadata": {},
     "output_type": "execute_result"
    }
   ],
   "source": [
    "val adjectives = List(\"One\", \"Two\", \"Red\", \"Blue\")\n",
    "val nouns = adjectives.map(adj => adj + \"fish\")\n"
   ]
  },
  {
   "cell_type": "code",
   "execution_count": 4,
   "metadata": {},
   "outputs": [
    {
     "data": {
      "text/plain": [
       "\u001b[36mlengths\u001b[39m: \u001b[32mList\u001b[39m[\u001b[32mInt\u001b[39m] = \u001b[33mList\u001b[39m(\u001b[32m7\u001b[39m, \u001b[32m7\u001b[39m, \u001b[32m7\u001b[39m, \u001b[32m8\u001b[39m)"
      ]
     },
     "execution_count": 4,
     "metadata": {},
     "output_type": "execute_result"
    }
   ],
   "source": [
    "val lengths = nouns.map(noun => noun.length)"
   ]
  },
  {
   "cell_type": "code",
   "execution_count": 9,
   "metadata": {},
   "outputs": [
    {
     "data": {
      "text/plain": [
       "\u001b[36mques\u001b[39m: \u001b[32mSeq\u001b[39m[\u001b[32mString\u001b[39m] = \u001b[33mList\u001b[39m(\u001b[32m\"Who\"\u001b[39m, \u001b[32m\"What\"\u001b[39m, \u001b[32m\"When\"\u001b[39m, \u001b[32m\"Where\"\u001b[39m, \u001b[32m\"Why\"\u001b[39m)\n",
       "\u001b[36musingMap\u001b[39m: \u001b[32mSeq\u001b[39m[\u001b[32mString\u001b[39m] = \u001b[33mList\u001b[39m(\u001b[32m\"who?\"\u001b[39m, \u001b[32m\"what?\"\u001b[39m, \u001b[32m\"when?\"\u001b[39m, \u001b[32m\"where?\"\u001b[39m, \u001b[32m\"why?\"\u001b[39m)"
      ]
     },
     "execution_count": 9,
     "metadata": {},
     "output_type": "execute_result"
    }
   ],
   "source": [
    "val ques = Seq(\"Who\", \"What\", \"When\", \"Where\", \"Why\")\n",
    "val usingMap = ques.map(_.toLowerCase + \"?\")"
   ]
  },
  {
   "cell_type": "code",
   "execution_count": 12,
   "metadata": {},
   "outputs": [
    {
     "data": {
      "text/plain": [
       "\u001b[36mvOne\u001b[39m: \u001b[32mOption\u001b[39m[\u001b[32mString\u001b[39m] = \u001b[33mSome\u001b[39m(value = \u001b[32m\"Who\"\u001b[39m)\n",
       "\u001b[36mhasLen4\u001b[39m: \u001b[32mOption\u001b[39m[\u001b[32mString\u001b[39m] = \u001b[33mSome\u001b[39m(value = \u001b[32m\"What\"\u001b[39m)\n",
       "\u001b[36mhasLen5\u001b[39m: \u001b[32mOption\u001b[39m[\u001b[32mString\u001b[39m] = \u001b[33mSome\u001b[39m(value = \u001b[32m\"Where\"\u001b[39m)\n",
       "\u001b[36mstartsH\u001b[39m: \u001b[32mOption\u001b[39m[\u001b[32mString\u001b[39m] = \u001b[32mNone\u001b[39m"
      ]
     },
     "execution_count": 12,
     "metadata": {},
     "output_type": "execute_result"
    }
   ],
   "source": [
    "val vOne = ques.find(_.toLowerCase.startsWith(\"w\"))\n",
    "val hasLen4 = ques.find(_.length == 4)\n",
    "val hasLen5 = ques.find(_.length == 5)\n",
    "val startsH = ques.find(q => q.startsWith(\"H\"))\n",
    "\n"
   ]
  },
  {
   "cell_type": "code",
   "execution_count": 13,
   "metadata": {},
   "outputs": [
    {
     "data": {
      "text/plain": [
       "\u001b[36mres12\u001b[39m: \u001b[32mOption\u001b[39m[\u001b[32mString\u001b[39m] = \u001b[32mNone\u001b[39m"
      ]
     },
     "execution_count": 13,
     "metadata": {},
     "output_type": "execute_result"
    }
   ],
   "source": [
    "startsH.map(_.toUpperCase)"
   ]
  },
  {
   "cell_type": "markdown",
   "metadata": {},
   "source": [
    "#### Classses & Objects\n",
    "a class is a blueprint for an object"
   ]
  },
  {
   "cell_type": "code",
   "execution_count": 14,
   "metadata": {},
   "outputs": [
    {
     "data": {
      "text/plain": [
       "defined \u001b[32mclass\u001b[39m \u001b[36mCheckSumAccumulator\u001b[39m\n",
       "\u001b[36mres13_1\u001b[39m: \u001b[32mCheckSumAccumulator\u001b[39m = ammonite.$sess.cmd13$Helper$CheckSumAccumulator@2aee16e2"
      ]
     },
     "execution_count": 14,
     "metadata": {},
     "output_type": "execute_result"
    }
   ],
   "source": [
    "class CheckSumAccumulator\n",
    "\n",
    "new CheckSumAccumulator"
   ]
  },
  {
   "cell_type": "markdown",
   "metadata": {},
   "source": [
    "#### Singleton Objects\n",
    "singleton objects and companion classes can access each others private members"
   ]
  },
  {
   "cell_type": "code",
   "execution_count": 15,
   "metadata": {},
   "outputs": [
    {
     "data": {
      "text/plain": [
       "\u001b[36mres14\u001b[39m: \u001b[32mDouble\u001b[39m = \u001b[32m-2.0\u001b[39m"
      ]
     },
     "execution_count": 15,
     "metadata": {},
     "output_type": "execute_result"
    }
   ],
   "source": [
    "-2.0"
   ]
  },
  {
   "cell_type": "code",
   "execution_count": 16,
   "metadata": {},
   "outputs": [
    {
     "data": {
      "text/plain": [
       "\u001b[36mres15\u001b[39m: \u001b[32mDouble\u001b[39m = \u001b[32m-2.0\u001b[39m"
      ]
     },
     "execution_count": 16,
     "metadata": {},
     "output_type": "execute_result"
    }
   ],
   "source": [
    "(2.0).unary_-"
   ]
  },
  {
   "cell_type": "code",
   "execution_count": 17,
   "metadata": {},
   "outputs": [
    {
     "data": {
      "text/plain": [
       "\u001b[36mres16\u001b[39m: \u001b[32mDouble\u001b[39m = \u001b[32m2.0\u001b[39m"
      ]
     },
     "execution_count": 17,
     "metadata": {},
     "output_type": "execute_result"
    }
   ],
   "source": [
    "(2.0).unary_+"
   ]
  },
  {
   "cell_type": "code",
   "execution_count": 18,
   "metadata": {},
   "outputs": [
    {
     "data": {
      "text/plain": [
       "\u001b[36mres17\u001b[39m: \u001b[32mBoolean\u001b[39m = \u001b[32mfalse\u001b[39m"
      ]
     },
     "execution_count": 18,
     "metadata": {},
     "output_type": "execute_result"
    }
   ],
   "source": [
    "(true).unary_!"
   ]
  },
  {
   "cell_type": "code",
   "execution_count": 19,
   "metadata": {},
   "outputs": [
    {
     "data": {
      "text/plain": [
       "defined \u001b[32mfunction\u001b[39m \u001b[36mopp\u001b[39m"
      ]
     },
     "execution_count": 19,
     "metadata": {},
     "output_type": "execute_result"
    }
   ],
   "source": [
    "def opp(x: Boolean): Boolean = (x).unary_!\n"
   ]
  },
  {
   "cell_type": "code",
   "execution_count": 20,
   "metadata": {},
   "outputs": [
    {
     "data": {
      "text/plain": [
       "\u001b[36mres19\u001b[39m: \u001b[32mBoolean\u001b[39m = \u001b[32mfalse\u001b[39m"
      ]
     },
     "execution_count": 20,
     "metadata": {},
     "output_type": "execute_result"
    }
   ],
   "source": [
    "opp(true)"
   ]
  },
  {
   "cell_type": "code",
   "execution_count": 21,
   "metadata": {},
   "outputs": [
    {
     "data": {
      "text/plain": [
       "\u001b[36mres20\u001b[39m: \u001b[32mDouble\u001b[39m = \u001b[32m3.5\u001b[39m"
      ]
     },
     "execution_count": 21,
     "metadata": {},
     "output_type": "execute_result"
    }
   ],
   "source": [
    "1.2 + 2.3"
   ]
  },
  {
   "cell_type": "code",
   "execution_count": 22,
   "metadata": {},
   "outputs": [
    {
     "data": {
      "text/plain": [
       "\u001b[36mres21\u001b[39m: \u001b[32mFloat\u001b[39m = \u001b[32m2.75F\u001b[39m"
      ]
     },
     "execution_count": 22,
     "metadata": {},
     "output_type": "execute_result"
    }
   ],
   "source": [
    "11.0f / 4.0f"
   ]
  },
  {
   "cell_type": "code",
   "execution_count": 23,
   "metadata": {},
   "outputs": [
    {
     "data": {
      "text/plain": [
       "\u001b[36mres22\u001b[39m: \u001b[32mLong\u001b[39m = \u001b[32m6L\u001b[39m"
      ]
     },
     "execution_count": 23,
     "metadata": {},
     "output_type": "execute_result"
    }
   ],
   "source": [
    "2L * 3l"
   ]
  },
  {
   "cell_type": "code",
   "execution_count": 24,
   "metadata": {},
   "outputs": [
    {
     "data": {
      "text/plain": [
       "\u001b[36mres23\u001b[39m: \u001b[32mDouble\u001b[39m = \u001b[32m-1.0\u001b[39m"
      ]
     },
     "execution_count": 24,
     "metadata": {},
     "output_type": "execute_result"
    }
   ],
   "source": [
    "math.IEEEremainder(11.0, 4.0)"
   ]
  },
  {
   "cell_type": "code",
   "execution_count": 25,
   "metadata": {},
   "outputs": [
    {
     "data": {
      "text/plain": [
       "defined \u001b[32mfunction\u001b[39m \u001b[36msalt\u001b[39m"
      ]
     },
     "execution_count": 25,
     "metadata": {},
     "output_type": "execute_result"
    }
   ],
   "source": [
    "def salt() = { println(\"salt\"); false}"
   ]
  },
  {
   "cell_type": "code",
   "execution_count": 28,
   "metadata": {},
   "outputs": [
    {
     "data": {
      "text/plain": [
       "defined \u001b[32mfunction\u001b[39m \u001b[36mpepper\u001b[39m"
      ]
     },
     "execution_count": 28,
     "metadata": {},
     "output_type": "execute_result"
    }
   ],
   "source": [
    "def pepper() = {\n",
    "    println(\"pepper\") \n",
    "    true\n",
    "}"
   ]
  },
  {
   "cell_type": "code",
   "execution_count": 27,
   "metadata": {},
   "outputs": [
    {
     "name": "stdout",
     "output_type": "stream",
     "text": [
      "pepper\n",
      "salt\n"
     ]
    },
    {
     "data": {
      "text/plain": [
       "\u001b[36mres26\u001b[39m: \u001b[32mBoolean\u001b[39m = \u001b[32mfalse\u001b[39m"
      ]
     },
     "execution_count": 27,
     "metadata": {},
     "output_type": "execute_result"
    }
   ],
   "source": [
    "pepper() && salt()"
   ]
  },
  {
   "cell_type": "code",
   "execution_count": 29,
   "metadata": {},
   "outputs": [
    {
     "data": {
      "text/plain": [
       "\u001b[36mres28\u001b[39m: \u001b[32mDouble\u001b[39m = \u001b[32m12.0\u001b[39m"
      ]
     },
     "execution_count": 29,
     "metadata": {},
     "output_type": "execute_result"
    }
   ],
   "source": [
    "(-12.0).abs"
   ]
  },
  {
   "cell_type": "markdown",
   "metadata": {},
   "source": [
    "#### Functional Objects"
   ]
  },
  {
   "cell_type": "code",
   "execution_count": null,
   "metadata": {},
   "outputs": [],
   "source": [
    "class Rational(n: Int, d: Int)"
   ]
  }
 ],
 "metadata": {
  "kernelspec": {
   "display_name": "Scala",
   "language": "scala",
   "name": "scala"
  },
  "language_info": {
   "codemirror_mode": "text/x-scala",
   "file_extension": ".sc",
   "mimetype": "text/x-scala",
   "name": "scala",
   "nbconvert_exporter": "script",
   "version": "2.13.10"
  },
  "orig_nbformat": 4
 },
 "nbformat": 4,
 "nbformat_minor": 2
}
